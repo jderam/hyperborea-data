{
 "cells": [
  {
   "cell_type": "code",
   "execution_count": 1,
   "metadata": {},
   "outputs": [],
   "source": [
    "female = \"\"\"1 Alda 11 Nihmukos\n",
    "2 Amachis 12 Rhaskusucu\n",
    "3 Aritucu 13 Sarakos\n",
    "4 Dentusucu 14 Sarukê\n",
    "5 Dizasokos 15 Storanê\n",
    "6 Epleimeiê 16 Surasokos\n",
    "7 Eptésuchis 17 Tamuros\n",
    "8 Kersésuchis 18 Tarma\n",
    "9 Madakos 19 Tarusucu\n",
    "10 Mokasokos 20 Tirgatos\n",
    "\"\"\"\n",
    "\n",
    "male = \"\"\"1 Bryzos 11 Kersés\n",
    "2 Byzés 12 Mukos\n",
    "3 Dentupés 13 Mukakenthos\n",
    "4 Diaskenthos 14 Pytros\n",
    "5 Diazenis 15 Rhaskos\n",
    "6 Dizapés 16 Rhésos\n",
    "7 Dizazelmis 17 Skaris\n",
    "8 Drenis 18 Tarutinos\n",
    "9 Ezbenis 19 Zilés\n",
    "10 Gaidrés 20 Zipyros\n",
    "\"\"\""
   ]
  },
  {
   "cell_type": "code",
   "execution_count": 2,
   "metadata": {},
   "outputs": [
    {
     "data": {
      "text/plain": [
       "20"
      ]
     },
     "execution_count": 2,
     "metadata": {},
     "output_type": "execute_result"
    }
   ],
   "source": [
    "female_names = []\n",
    "for n in female.split():\n",
    "    try:\n",
    "        int(n)\n",
    "    except:\n",
    "        female_names.append(n)\n",
    "female_names.sort()\n",
    "len(female_names)"
   ]
  },
  {
   "cell_type": "code",
   "execution_count": 3,
   "metadata": {},
   "outputs": [
    {
     "data": {
      "text/plain": [
       "['Alda',\n",
       " 'Amachis',\n",
       " 'Aritucu',\n",
       " 'Dentusucu',\n",
       " 'Dizasokos',\n",
       " 'Epleimeiê',\n",
       " 'Eptésuchis',\n",
       " 'Kersésuchis',\n",
       " 'Madakos',\n",
       " 'Mokasokos',\n",
       " 'Nihmukos',\n",
       " 'Rhaskusucu',\n",
       " 'Sarakos',\n",
       " 'Sarukê',\n",
       " 'Storanê',\n",
       " 'Surasokos',\n",
       " 'Tamuros',\n",
       " 'Tarma',\n",
       " 'Tarusucu',\n",
       " 'Tirgatos']"
      ]
     },
     "execution_count": 3,
     "metadata": {},
     "output_type": "execute_result"
    }
   ],
   "source": [
    "female_names"
   ]
  },
  {
   "cell_type": "code",
   "execution_count": 4,
   "metadata": {},
   "outputs": [],
   "source": [
    "with open(\"t174_kimmerian_krimmean_female_names.txt\", \"w\") as f:\n",
    "    f.write(\"id\\tname\\n\")\n",
    "    for i, n in enumerate(female_names, start=1):\n",
    "        f.write(f\"{i}\\t{n}\\n\")"
   ]
  },
  {
   "cell_type": "code",
   "execution_count": 5,
   "metadata": {},
   "outputs": [
    {
     "data": {
      "text/plain": [
       "20"
      ]
     },
     "execution_count": 5,
     "metadata": {},
     "output_type": "execute_result"
    }
   ],
   "source": [
    "male_names = []\n",
    "for n in male.split():\n",
    "    try:\n",
    "        int(n)\n",
    "    except:\n",
    "        male_names.append(n)\n",
    "male_names.sort()\n",
    "len(male_names)"
   ]
  },
  {
   "cell_type": "code",
   "execution_count": 6,
   "metadata": {},
   "outputs": [
    {
     "data": {
      "text/plain": [
       "['Bryzos',\n",
       " 'Byzés',\n",
       " 'Dentupés',\n",
       " 'Diaskenthos',\n",
       " 'Diazenis',\n",
       " 'Dizapés',\n",
       " 'Dizazelmis',\n",
       " 'Drenis',\n",
       " 'Ezbenis',\n",
       " 'Gaidrés',\n",
       " 'Kersés',\n",
       " 'Mukakenthos',\n",
       " 'Mukos',\n",
       " 'Pytros',\n",
       " 'Rhaskos',\n",
       " 'Rhésos',\n",
       " 'Skaris',\n",
       " 'Tarutinos',\n",
       " 'Zilés',\n",
       " 'Zipyros']"
      ]
     },
     "execution_count": 6,
     "metadata": {},
     "output_type": "execute_result"
    }
   ],
   "source": [
    "male_names"
   ]
  },
  {
   "cell_type": "code",
   "execution_count": 7,
   "metadata": {},
   "outputs": [],
   "source": [
    "with open(\"t175_kimmerian_krimmean_male_names.txt\", \"w\") as f:\n",
    "    f.write(\"id\\tname\\n\")\n",
    "    for i, n in enumerate(male_names, start=1):\n",
    "        f.write(f\"{i}\\t{n}\\n\")"
   ]
  },
  {
   "cell_type": "code",
   "execution_count": null,
   "metadata": {},
   "outputs": [],
   "source": []
  }
 ],
 "metadata": {
  "kernelspec": {
   "display_name": "hyperborea-data",
   "language": "python",
   "name": "python3"
  },
  "language_info": {
   "codemirror_mode": {
    "name": "ipython",
    "version": 3
   },
   "file_extension": ".py",
   "mimetype": "text/x-python",
   "name": "python",
   "nbconvert_exporter": "python",
   "pygments_lexer": "ipython3",
   "version": "3.10.9"
  },
  "orig_nbformat": 4,
  "vscode": {
   "interpreter": {
    "hash": "acb019856f73b84eca86819462a39e3d7bccc0acdbb6a07dbb432495ff0ddd72"
   }
  }
 },
 "nbformat": 4,
 "nbformat_minor": 2
}
