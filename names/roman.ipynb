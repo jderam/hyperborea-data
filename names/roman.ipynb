{
 "cells": [
  {
   "cell_type": "code",
   "execution_count": 13,
   "metadata": {},
   "outputs": [],
   "source": [
    "name = \"\"\"01–04 Appia/Appius 37–40 Marcia/Marcus 69–72 Quinta/Quintus\n",
    "05–08 Aula/Aulus 41–44 Mettia/Mettius 73–76 Septima/Septimus\n",
    "09–12 Decima/Decimus 45–48 Nona/Nonus 77–80 Servia/Servius\n",
    "13–16 Fausta/Faustus 49–52 Numeria/Numerius 81–84 Statia/Statius\n",
    "17–20 Gaia/Gaius 53–56 Octavia/Octavius 85–88 Tiberia/Tiberius\n",
    "21–24 Gnæa/Gnæus 57–60 Paulla/Paullus 89–92 Tulla/Tullus\n",
    "25–28 Hosta/Hostus 61–64 Procula/Proculus 93–96 Vibia/Vibius\n",
    "29–32 Lucia/Lucius 65–68 Publia/Publius 97–00 Vopisca/Vopiscus\n",
    "33–36 Mania/Manius\n",
    "\"\"\"\n",
    "\n",
    "family = \"\"\"01–04 Acilia/Acilius 37–40 Gabinia/Gabinius 69–72 Ovidia/Ovidius\n",
    "05–08 Æmilia/Æmilius 41–44 Geminia/Geminius 73–76 Petronia/Petronius\n",
    "09–12 Calpurnia/Calpurnius 45–48 Horatia/Horatius 77–80 Pontia/Pontius\n",
    "13–16 Claudia/Claudius 49–52 Hortensia/Hortensius 81–84 Rubellia/Rubellius\n",
    "17–20 Didia/Didius 53–56 Iulia/Iulius 85–88 Sextia/Sextius\n",
    "21–24 Domitia/Domitius 57–60 Licinia/Licinius 89–92 Titinia/Titinius\n",
    "25–28 Equitia/Equitius 61–64 Maria/Marius 93–96 Ulpia/Ulpius\n",
    "29–32 Fabia/Fabius 65–68 Numicia/Numicius 97–00 Valeria/Valerius\n",
    "33–36 Flavia/Flavius\n",
    "\"\"\"\n"
   ]
  },
  {
   "cell_type": "code",
   "execution_count": 3,
   "metadata": {},
   "outputs": [
    {
     "name": "stdout",
     "output_type": "stream",
     "text": [
      "25\n"
     ]
    },
    {
     "data": {
      "text/plain": [
       "25"
      ]
     },
     "execution_count": 3,
     "metadata": {},
     "output_type": "execute_result"
    }
   ],
   "source": [
    "female_names = []\n",
    "male_names = []\n",
    "for n in name.split():\n",
    "    if \"–\" in n:\n",
    "        continue\n",
    "    else:\n",
    "        female_names.append(n.split(\"/\")[0])\n",
    "        male_names.append(n.split(\"/\")[1])\n",
    "female_names.sort()\n",
    "male_names.sort()\n",
    "print(len(female_names))\n",
    "len(male_names)"
   ]
  },
  {
   "cell_type": "code",
   "execution_count": 4,
   "metadata": {},
   "outputs": [
    {
     "data": {
      "text/plain": [
       "['Appia',\n",
       " 'Aula',\n",
       " 'Decima',\n",
       " 'Fausta',\n",
       " 'Gaia',\n",
       " 'Gnæa',\n",
       " 'Hosta',\n",
       " 'Lucia',\n",
       " 'Mania',\n",
       " 'Marcia',\n",
       " 'Mettia',\n",
       " 'Nona',\n",
       " 'Numeria',\n",
       " 'Octavia',\n",
       " 'Paulla',\n",
       " 'Procula',\n",
       " 'Publia',\n",
       " 'Quinta',\n",
       " 'Septima',\n",
       " 'Servia',\n",
       " 'Statia',\n",
       " 'Tiberia',\n",
       " 'Tulla',\n",
       " 'Vibia',\n",
       " 'Vopisca']"
      ]
     },
     "execution_count": 4,
     "metadata": {},
     "output_type": "execute_result"
    }
   ],
   "source": [
    "female_names"
   ]
  },
  {
   "cell_type": "code",
   "execution_count": 5,
   "metadata": {},
   "outputs": [
    {
     "data": {
      "text/plain": [
       "['Appius',\n",
       " 'Aulus',\n",
       " 'Decimus',\n",
       " 'Faustus',\n",
       " 'Gaius',\n",
       " 'Gnæus',\n",
       " 'Hostus',\n",
       " 'Lucius',\n",
       " 'Manius',\n",
       " 'Marcus',\n",
       " 'Mettius',\n",
       " 'Nonus',\n",
       " 'Numerius',\n",
       " 'Octavius',\n",
       " 'Paullus',\n",
       " 'Proculus',\n",
       " 'Publius',\n",
       " 'Quintus',\n",
       " 'Septimus',\n",
       " 'Servius',\n",
       " 'Statius',\n",
       " 'Tiberius',\n",
       " 'Tullus',\n",
       " 'Vibius',\n",
       " 'Vopiscus']"
      ]
     },
     "execution_count": 5,
     "metadata": {},
     "output_type": "execute_result"
    }
   ],
   "source": [
    "male_names"
   ]
  },
  {
   "cell_type": "code",
   "execution_count": 6,
   "metadata": {},
   "outputs": [],
   "source": [
    "with open(\"t188_roman_personal_names.txt\", \"w\") as f:\n",
    "    f.write(\"id\\tfemale_name\\tmale_name\\n\")\n",
    "    for i, idx in enumerate(range(len(female_names)), start=1):\n",
    "        f.write(f\"{i}\\t{female_names[idx]}\\t{male_names[idx]}\\n\")"
   ]
  },
  {
   "cell_type": "code",
   "execution_count": 7,
   "metadata": {},
   "outputs": [
    {
     "name": "stdout",
     "output_type": "stream",
     "text": [
      "25\n"
     ]
    },
    {
     "data": {
      "text/plain": [
       "25"
      ]
     },
     "execution_count": 7,
     "metadata": {},
     "output_type": "execute_result"
    }
   ],
   "source": [
    "female_names = []\n",
    "male_names = []\n",
    "for n in family.split():\n",
    "    if \"–\" in n:\n",
    "        continue\n",
    "    else:\n",
    "        female_names.append(n.split(\"/\")[0])\n",
    "        male_names.append(n.split(\"/\")[1])\n",
    "female_names.sort()\n",
    "male_names.sort()\n",
    "print(len(female_names))\n",
    "len(male_names)"
   ]
  },
  {
   "cell_type": "code",
   "execution_count": 8,
   "metadata": {},
   "outputs": [
    {
     "data": {
      "text/plain": [
       "['Acilia',\n",
       " 'Calpurnia',\n",
       " 'Claudia',\n",
       " 'Didia',\n",
       " 'Domitia',\n",
       " 'Equitia',\n",
       " 'Fabia',\n",
       " 'Flavia',\n",
       " 'Gabinia',\n",
       " 'Geminia',\n",
       " 'Horatia',\n",
       " 'Hortensia',\n",
       " 'Iulia',\n",
       " 'Licinia',\n",
       " 'Maria',\n",
       " 'Numicia',\n",
       " 'Ovidia',\n",
       " 'Petronia',\n",
       " 'Pontia',\n",
       " 'Rubellia',\n",
       " 'Sextia',\n",
       " 'Titinia',\n",
       " 'Ulpia',\n",
       " 'Valeria',\n",
       " 'Æmilia']"
      ]
     },
     "execution_count": 8,
     "metadata": {},
     "output_type": "execute_result"
    }
   ],
   "source": [
    "female_names"
   ]
  },
  {
   "cell_type": "code",
   "execution_count": 10,
   "metadata": {},
   "outputs": [],
   "source": [
    "female_names = [\n",
    "    'Acilia',\n",
    "     'Æmilia',\n",
    " 'Calpurnia',\n",
    " 'Claudia',\n",
    " 'Didia',\n",
    " 'Domitia',\n",
    " 'Equitia',\n",
    " 'Fabia',\n",
    " 'Flavia',\n",
    " 'Gabinia',\n",
    " 'Geminia',\n",
    " 'Horatia',\n",
    " 'Hortensia',\n",
    " 'Iulia',\n",
    " 'Licinia',\n",
    " 'Maria',\n",
    " 'Numicia',\n",
    " 'Ovidia',\n",
    " 'Petronia',\n",
    " 'Pontia',\n",
    " 'Rubellia',\n",
    " 'Sextia',\n",
    " 'Titinia',\n",
    " 'Ulpia',\n",
    " 'Valeria',\n",
    "]"
   ]
  },
  {
   "cell_type": "code",
   "execution_count": 9,
   "metadata": {},
   "outputs": [
    {
     "data": {
      "text/plain": [
       "['Acilius',\n",
       " 'Calpurnius',\n",
       " 'Claudius',\n",
       " 'Didius',\n",
       " 'Domitius',\n",
       " 'Equitius',\n",
       " 'Fabius',\n",
       " 'Flavius',\n",
       " 'Gabinius',\n",
       " 'Geminius',\n",
       " 'Horatius',\n",
       " 'Hortensius',\n",
       " 'Iulius',\n",
       " 'Licinius',\n",
       " 'Marius',\n",
       " 'Numicius',\n",
       " 'Ovidius',\n",
       " 'Petronius',\n",
       " 'Pontius',\n",
       " 'Rubellius',\n",
       " 'Sextius',\n",
       " 'Titinius',\n",
       " 'Ulpius',\n",
       " 'Valerius',\n",
       " 'Æmilius']"
      ]
     },
     "execution_count": 9,
     "metadata": {},
     "output_type": "execute_result"
    }
   ],
   "source": [
    "male_names"
   ]
  },
  {
   "cell_type": "code",
   "execution_count": 11,
   "metadata": {},
   "outputs": [],
   "source": [
    "male_names = [\n",
    "    'Acilius',\n",
    "    'Æmilius',\n",
    " 'Calpurnius',\n",
    " 'Claudius',\n",
    " 'Didius',\n",
    " 'Domitius',\n",
    " 'Equitius',\n",
    " 'Fabius',\n",
    " 'Flavius',\n",
    " 'Gabinius',\n",
    " 'Geminius',\n",
    " 'Horatius',\n",
    " 'Hortensius',\n",
    " 'Iulius',\n",
    " 'Licinius',\n",
    " 'Marius',\n",
    " 'Numicius',\n",
    " 'Ovidius',\n",
    " 'Petronius',\n",
    " 'Pontius',\n",
    " 'Rubellius',\n",
    " 'Sextius',\n",
    " 'Titinius',\n",
    " 'Ulpius',\n",
    " 'Valerius',\n",
    "]"
   ]
  },
  {
   "cell_type": "code",
   "execution_count": 12,
   "metadata": {},
   "outputs": [],
   "source": [
    "with open(\"t189_roman_family_names.txt\", \"w\") as f:\n",
    "    f.write(\"id\\tfemale_name\\tmale_name\\n\")\n",
    "    for i, idx in enumerate(range(len(female_names)), start=1):\n",
    "        f.write(f\"{i}\\t{female_names[idx]}\\t{male_names[idx]}\\n\")"
   ]
  },
  {
   "cell_type": "code",
   "execution_count": 1,
   "metadata": {},
   "outputs": [],
   "source": [
    "nickname = \"\"\"01–02 Aculeo – “surly”\n",
    "51–52 Flavus (Flava) – “yellow haired”\n",
    "03–04 Agricola – “farmer”\n",
    "53–54 Fullo – “fuller”\n",
    "05–06 Albinus (Albina) – “pale”\n",
    "55–56 Gemellus (Gemella) – “twin sibling”\n",
    "07–08 Albus (Alba) – “fair skinned”\n",
    "57–58 Helva – “brown haired”\n",
    "09–10 Aquilinus (Aquilina) – “like an eagle”\n",
    "59–60 Laterensis – “lives in the hills”\n",
    "11–12 Arvina – “fat”\n",
    "61–62 Longus (Longa) – “tall”\n",
    "13–14 Asina – “like an ass”\n",
    "63–64 Lupus (Lupa) – “like a wolf ”\n",
    "15–16 Atellus (Atella) – “dark haired”\n",
    "65–66 Lurco – “glutton”\n",
    "17–18 Bassus (Bassa) – “plump”\n",
    "67–68 Macer (Macra) – “thin”\n",
    "19–20 Bestia – “like an animal”\n",
    "69–70 Mergus (Merga) – “like a gull”\n",
    "21–22 Bibulus (Bibula) – “drunk”\n",
    "71–72 Mus – “like a mouse”\n",
    "23–24 Brutus (Bruta) – “stupid”\n",
    "73–74 Naso – “big nosed”\n",
    "25–26 Bubulcus (Bubulca) – “cattle drover”\n",
    "75–76 Natta – “artisan”\n",
    "27–28 Bucco – “fool”\n",
    "77–78 Niger (Nigra) – “dark haired”\n",
    "29–30 Buteo – “like a vulture”\n",
    "79–80 Pavo – “like a peacock”\n",
    "31–32 Cæpio – “grocer”\n",
    "81–82 Pictor (Pictrix) – “painter”\n",
    "33–34 Calidus (Calida) – “hot headed”\n",
    "83–84 Pulcher (Pulchra) – “good looking”\n",
    "35–36 Calvus (Calva) – “bald”\n",
    "85–86 Purpureo – “purplish complexion”\n",
    "37–38 Caninus (Canina) – “like a dog”\n",
    "87–88 Quadratus (Quadrata) – “stocky”\n",
    "39–40 Canus (Cana) – “light haired”\n",
    "89–90 Rufus (Rufa) – “red haired”\n",
    "41–42 Celsus (Celsa) – “tall”\n",
    "91–92 Salinator (Salinatrix) – “salt miner”\n",
    "43–44 Corvinus (Corvina) – “like a crow”\n",
    "93–94 Taurus (Taura) – “like a bull”\n",
    "45–46 Crassus (Crassa) – “fat”\n",
    "95–96 Varus (Vara) – “bow-legged”\n",
    "47–48 Crispus (Crispa) – “curly haired”\n",
    "97–98 Verres – “like a pig”\n",
    "49–50 Figulus (Figula) – “potter”\n",
    "99–00 Vitulus (Vitula) – “like a cow”\"\"\""
   ]
  },
  {
   "cell_type": "code",
   "execution_count": 2,
   "metadata": {},
   "outputs": [
    {
     "data": {
      "text/plain": [
       "'01–02 Aculeo – “surly”\\n51–52 Flavus (Flava) – “yellow haired”\\n03–04 Agricola – “farmer”\\n53–54 Fullo – “fuller”\\n05–06 Albinus (Albina) – “pale”\\n55–56 Gemellus (Gemella) – “twin sibling”\\n07–08 Albus (Alba) – “fair skinned”\\n57–58 Helva – “brown haired”\\n09–10 Aquilinus (Aquilina) – “like an eagle”\\n59–60 Laterensis – “lives in the hills”\\n11–12 Arvina – “fat”\\n61–62 Longus (Longa) – “tall”\\n13–14 Asina – “like an ass”\\n63–64 Lupus (Lupa) – “like a wolf ”\\n15–16 Atellus (Atella) – “dark haired”\\n65–66 Lurco – “glutton”\\n17–18 Bassus (Bassa) – “plump”\\n67–68 Macer (Macra) – “thin”\\n19–20 Bestia – “like an animal”\\n69–70 Mergus (Merga) – “like a gull”\\n21–22 Bibulus (Bibula) – “drunk”\\n71–72 Mus – “like a mouse”\\n23–24 Brutus (Bruta) – “stupid”\\n73–74 Naso – “big nosed”\\n25–26 Bubulcus (Bubulca) – “cattle drover”\\n75–76 Natta – “artisan”\\n27–28 Bucco – “fool”\\n77–78 Niger (Nigra) – “dark haired”\\n29–30 Buteo – “like a vulture”\\n79–80 Pavo – “like a peacock”\\n31–32 Cæpio – “grocer”\\n81–82 Pictor (Pictrix) – “painter”\\n33–34 Calidus (Calida) – “hot headed”\\n83–84 Pulcher (Pulchra) – “good looking”\\n35–36 Calvus (Calva) – “bald”\\n85–86 Purpureo – “purplish complexion”\\n37–38 Caninus (Canina) – “like a dog”\\n87–88 Quadratus (Quadrata) – “stocky”\\n39–40 Canus (Cana) – “light haired”\\n89–90 Rufus (Rufa) – “red haired”\\n41–42 Celsus (Celsa) – “tall”\\n91–92 Salinator (Salinatrix) – “salt miner”\\n43–44 Corvinus (Corvina) – “like a crow”\\n93–94 Taurus (Taura) – “like a bull”\\n45–46 Crassus (Crassa) – “fat”\\n95–96 Varus (Vara) – “bow-legged”\\n47–48 Crispus (Crispa) – “curly haired”\\n97–98 Verres – “like a pig”\\n49–50 Figulus (Figula) – “potter”\\n99–00 Vitulus (Vitula) – “like a cow”'"
      ]
     },
     "execution_count": 2,
     "metadata": {},
     "output_type": "execute_result"
    }
   ],
   "source": [
    "nickname"
   ]
  },
  {
   "cell_type": "code",
   "execution_count": 3,
   "metadata": {},
   "outputs": [
    {
     "data": {
      "text/plain": [
       "['01–02 Aculeo – “surly”',\n",
       " '51–52 Flavus (Flava) – “yellow haired”',\n",
       " '03–04 Agricola – “farmer”',\n",
       " '53–54 Fullo – “fuller”',\n",
       " '05–06 Albinus (Albina) – “pale”',\n",
       " '55–56 Gemellus (Gemella) – “twin sibling”',\n",
       " '07–08 Albus (Alba) – “fair skinned”',\n",
       " '57–58 Helva – “brown haired”',\n",
       " '09–10 Aquilinus (Aquilina) – “like an eagle”',\n",
       " '59–60 Laterensis – “lives in the hills”',\n",
       " '11–12 Arvina – “fat”',\n",
       " '61–62 Longus (Longa) – “tall”',\n",
       " '13–14 Asina – “like an ass”',\n",
       " '63–64 Lupus (Lupa) – “like a wolf ”',\n",
       " '15–16 Atellus (Atella) – “dark haired”',\n",
       " '65–66 Lurco – “glutton”',\n",
       " '17–18 Bassus (Bassa) – “plump”',\n",
       " '67–68 Macer (Macra) – “thin”',\n",
       " '19–20 Bestia – “like an animal”',\n",
       " '69–70 Mergus (Merga) – “like a gull”',\n",
       " '21–22 Bibulus (Bibula) – “drunk”',\n",
       " '71–72 Mus – “like a mouse”',\n",
       " '23–24 Brutus (Bruta) – “stupid”',\n",
       " '73–74 Naso – “big nosed”',\n",
       " '25–26 Bubulcus (Bubulca) – “cattle drover”',\n",
       " '75–76 Natta – “artisan”',\n",
       " '27–28 Bucco – “fool”',\n",
       " '77–78 Niger (Nigra) – “dark haired”',\n",
       " '29–30 Buteo – “like a vulture”',\n",
       " '79–80 Pavo – “like a peacock”',\n",
       " '31–32 Cæpio – “grocer”',\n",
       " '81–82 Pictor (Pictrix) – “painter”',\n",
       " '33–34 Calidus (Calida) – “hot headed”',\n",
       " '83–84 Pulcher (Pulchra) – “good looking”',\n",
       " '35–36 Calvus (Calva) – “bald”',\n",
       " '85–86 Purpureo – “purplish complexion”',\n",
       " '37–38 Caninus (Canina) – “like a dog”',\n",
       " '87–88 Quadratus (Quadrata) – “stocky”',\n",
       " '39–40 Canus (Cana) – “light haired”',\n",
       " '89–90 Rufus (Rufa) – “red haired”',\n",
       " '41–42 Celsus (Celsa) – “tall”',\n",
       " '91–92 Salinator (Salinatrix) – “salt miner”',\n",
       " '43–44 Corvinus (Corvina) – “like a crow”',\n",
       " '93–94 Taurus (Taura) – “like a bull”',\n",
       " '45–46 Crassus (Crassa) – “fat”',\n",
       " '95–96 Varus (Vara) – “bow-legged”',\n",
       " '47–48 Crispus (Crispa) – “curly haired”',\n",
       " '97–98 Verres – “like a pig”',\n",
       " '49–50 Figulus (Figula) – “potter”',\n",
       " '99–00 Vitulus (Vitula) – “like a cow”']"
      ]
     },
     "execution_count": 3,
     "metadata": {},
     "output_type": "execute_result"
    }
   ],
   "source": [
    "nickname.split(\"\\n\")"
   ]
  },
  {
   "cell_type": "code",
   "execution_count": 4,
   "metadata": {},
   "outputs": [
    {
     "data": {
      "text/plain": [
       "50"
      ]
     },
     "execution_count": 4,
     "metadata": {},
     "output_type": "execute_result"
    }
   ],
   "source": [
    "len(nickname.split(\"\\n\"))"
   ]
  },
  {
   "cell_type": "code",
   "execution_count": 6,
   "metadata": {},
   "outputs": [
    {
     "data": {
      "text/plain": [
       "['Aculeo – “surly”',\n",
       " 'Flavus (Flava) – “yellow haired”',\n",
       " 'Agricola – “farmer”',\n",
       " 'Fullo – “fuller”',\n",
       " 'Albinus (Albina) – “pale”',\n",
       " 'Gemellus (Gemella) – “twin sibling”',\n",
       " 'Albus (Alba) – “fair skinned”',\n",
       " 'Helva – “brown haired”',\n",
       " 'Aquilinus (Aquilina) – “like an eagle”',\n",
       " 'Laterensis – “lives in the hills”',\n",
       " 'Arvina – “fat”',\n",
       " 'Longus (Longa) – “tall”',\n",
       " 'Asina – “like an ass”',\n",
       " 'Lupus (Lupa) – “like a wolf ”',\n",
       " 'Atellus (Atella) – “dark haired”',\n",
       " 'Lurco – “glutton”',\n",
       " 'Bassus (Bassa) – “plump”',\n",
       " 'Macer (Macra) – “thin”',\n",
       " 'Bestia – “like an animal”',\n",
       " 'Mergus (Merga) – “like a gull”',\n",
       " 'Bibulus (Bibula) – “drunk”',\n",
       " 'Mus – “like a mouse”',\n",
       " 'Brutus (Bruta) – “stupid”',\n",
       " 'Naso – “big nosed”',\n",
       " 'Bubulcus (Bubulca) – “cattle drover”',\n",
       " 'Natta – “artisan”',\n",
       " 'Bucco – “fool”',\n",
       " 'Niger (Nigra) – “dark haired”',\n",
       " 'Buteo – “like a vulture”',\n",
       " 'Pavo – “like a peacock”',\n",
       " 'Cæpio – “grocer”',\n",
       " 'Pictor (Pictrix) – “painter”',\n",
       " 'Calidus (Calida) – “hot headed”',\n",
       " 'Pulcher (Pulchra) – “good looking”',\n",
       " 'Calvus (Calva) – “bald”',\n",
       " 'Purpureo – “purplish complexion”',\n",
       " 'Caninus (Canina) – “like a dog”',\n",
       " 'Quadratus (Quadrata) – “stocky”',\n",
       " 'Canus (Cana) – “light haired”',\n",
       " 'Rufus (Rufa) – “red haired”',\n",
       " 'Celsus (Celsa) – “tall”',\n",
       " 'Salinator (Salinatrix) – “salt miner”',\n",
       " 'Corvinus (Corvina) – “like a crow”',\n",
       " 'Taurus (Taura) – “like a bull”',\n",
       " 'Crassus (Crassa) – “fat”',\n",
       " 'Varus (Vara) – “bow-legged”',\n",
       " 'Crispus (Crispa) – “curly haired”',\n",
       " 'Verres – “like a pig”',\n",
       " 'Figulus (Figula) – “potter”',\n",
       " 'Vitulus (Vitula) – “like a cow”']"
      ]
     },
     "execution_count": 6,
     "metadata": {},
     "output_type": "execute_result"
    }
   ],
   "source": [
    "nickname2 = [x[6:] for x in nickname.split(\"\\n\")]\n",
    "nickname2"
   ]
  },
  {
   "cell_type": "code",
   "execution_count": 8,
   "metadata": {},
   "outputs": [
    {
     "data": {
      "text/plain": [
       "[['Aculeo', '“surly”'],\n",
       " ['Flavus (Flava)', '“yellow haired”'],\n",
       " ['Agricola', '“farmer”'],\n",
       " ['Fullo', '“fuller”'],\n",
       " ['Albinus (Albina)', '“pale”'],\n",
       " ['Gemellus (Gemella)', '“twin sibling”'],\n",
       " ['Albus (Alba)', '“fair skinned”'],\n",
       " ['Helva', '“brown haired”'],\n",
       " ['Aquilinus (Aquilina)', '“like an eagle”'],\n",
       " ['Laterensis', '“lives in the hills”'],\n",
       " ['Arvina', '“fat”'],\n",
       " ['Longus (Longa)', '“tall”'],\n",
       " ['Asina', '“like an ass”'],\n",
       " ['Lupus (Lupa)', '“like a wolf ”'],\n",
       " ['Atellus (Atella)', '“dark haired”'],\n",
       " ['Lurco', '“glutton”'],\n",
       " ['Bassus (Bassa)', '“plump”'],\n",
       " ['Macer (Macra)', '“thin”'],\n",
       " ['Bestia', '“like an animal”'],\n",
       " ['Mergus (Merga)', '“like a gull”'],\n",
       " ['Bibulus (Bibula)', '“drunk”'],\n",
       " ['Mus', '“like a mouse”'],\n",
       " ['Brutus (Bruta)', '“stupid”'],\n",
       " ['Naso', '“big nosed”'],\n",
       " ['Bubulcus (Bubulca)', '“cattle drover”'],\n",
       " ['Natta', '“artisan”'],\n",
       " ['Bucco', '“fool”'],\n",
       " ['Niger (Nigra)', '“dark haired”'],\n",
       " ['Buteo', '“like a vulture”'],\n",
       " ['Pavo', '“like a peacock”'],\n",
       " ['Cæpio', '“grocer”'],\n",
       " ['Pictor (Pictrix)', '“painter”'],\n",
       " ['Calidus (Calida)', '“hot headed”'],\n",
       " ['Pulcher (Pulchra)', '“good looking”'],\n",
       " ['Calvus (Calva)', '“bald”'],\n",
       " ['Purpureo', '“purplish complexion”'],\n",
       " ['Caninus (Canina)', '“like a dog”'],\n",
       " ['Quadratus (Quadrata)', '“stocky”'],\n",
       " ['Canus (Cana)', '“light haired”'],\n",
       " ['Rufus (Rufa)', '“red haired”'],\n",
       " ['Celsus (Celsa)', '“tall”'],\n",
       " ['Salinator (Salinatrix)', '“salt miner”'],\n",
       " ['Corvinus (Corvina)', '“like a crow”'],\n",
       " ['Taurus (Taura)', '“like a bull”'],\n",
       " ['Crassus (Crassa)', '“fat”'],\n",
       " ['Varus (Vara)', '“bow-legged”'],\n",
       " ['Crispus (Crispa)', '“curly haired”'],\n",
       " ['Verres', '“like a pig”'],\n",
       " ['Figulus (Figula)', '“potter”'],\n",
       " ['Vitulus (Vitula)', '“like a cow”']]"
      ]
     },
     "execution_count": 8,
     "metadata": {},
     "output_type": "execute_result"
    }
   ],
   "source": [
    "nickname3 = [x.split(\" – \") for x in nickname2]\n",
    "nickname3"
   ]
  },
  {
   "cell_type": "code",
   "execution_count": 13,
   "metadata": {},
   "outputs": [
    {
     "data": {
      "text/plain": [
       "[]"
      ]
     },
     "execution_count": 13,
     "metadata": {},
     "output_type": "execute_result"
    }
   ],
   "source": [
    "[len(x) for x in nickname3 if len(x) != 2]"
   ]
  },
  {
   "cell_type": "code",
   "execution_count": 15,
   "metadata": {},
   "outputs": [
    {
     "data": {
      "text/plain": [
       "[('Aculeo', 'Aculeo', '“surly”'),\n",
       " ('Flava', 'Flavus', '“yellow haired”'),\n",
       " ('Agricola', 'Agricola', '“farmer”'),\n",
       " ('Fullo', 'Fullo', '“fuller”'),\n",
       " ('Albina', 'Albinus', '“pale”'),\n",
       " ('Gemella', 'Gemellus', '“twin sibling”'),\n",
       " ('Alba', 'Albus', '“fair skinned”'),\n",
       " ('Helva', 'Helva', '“brown haired”'),\n",
       " ('Aquilina', 'Aquilinus', '“like an eagle”'),\n",
       " ('Laterensis', 'Laterensis', '“lives in the hills”'),\n",
       " ('Arvina', 'Arvina', '“fat”'),\n",
       " ('Longa', 'Longus', '“tall”'),\n",
       " ('Asina', 'Asina', '“like an ass”'),\n",
       " ('Lupa', 'Lupus', '“like a wolf ”'),\n",
       " ('Atella', 'Atellus', '“dark haired”'),\n",
       " ('Lurco', 'Lurco', '“glutton”'),\n",
       " ('Bassa', 'Bassus', '“plump”'),\n",
       " ('Macra', 'Macer', '“thin”'),\n",
       " ('Bestia', 'Bestia', '“like an animal”'),\n",
       " ('Merga', 'Mergus', '“like a gull”'),\n",
       " ('Bibula', 'Bibulus', '“drunk”'),\n",
       " ('Mus', 'Mus', '“like a mouse”'),\n",
       " ('Bruta', 'Brutus', '“stupid”'),\n",
       " ('Naso', 'Naso', '“big nosed”'),\n",
       " ('Bubulca', 'Bubulcus', '“cattle drover”'),\n",
       " ('Natta', 'Natta', '“artisan”'),\n",
       " ('Bucco', 'Bucco', '“fool”'),\n",
       " ('Nigra', 'Niger', '“dark haired”'),\n",
       " ('Buteo', 'Buteo', '“like a vulture”'),\n",
       " ('Pavo', 'Pavo', '“like a peacock”'),\n",
       " ('Cæpio', 'Cæpio', '“grocer”'),\n",
       " ('Pictrix', 'Pictor', '“painter”'),\n",
       " ('Calida', 'Calidus', '“hot headed”'),\n",
       " ('Pulchra', 'Pulcher', '“good looking”'),\n",
       " ('Calva', 'Calvus', '“bald”'),\n",
       " ('Purpureo', 'Purpureo', '“purplish complexion”'),\n",
       " ('Canina', 'Caninus', '“like a dog”'),\n",
       " ('Quadrata', 'Quadratus', '“stocky”'),\n",
       " ('Cana', 'Canus', '“light haired”'),\n",
       " ('Rufa', 'Rufus', '“red haired”'),\n",
       " ('Celsa', 'Celsus', '“tall”'),\n",
       " ('Salinatrix', 'Salinator', '“salt miner”'),\n",
       " ('Corvina', 'Corvinus', '“like a crow”'),\n",
       " ('Taura', 'Taurus', '“like a bull”'),\n",
       " ('Crassa', 'Crassus', '“fat”'),\n",
       " ('Vara', 'Varus', '“bow-legged”'),\n",
       " ('Crispa', 'Crispus', '“curly haired”'),\n",
       " ('Verres', 'Verres', '“like a pig”'),\n",
       " ('Figula', 'Figulus', '“potter”'),\n",
       " ('Vitula', 'Vitulus', '“like a cow”')]"
      ]
     },
     "execution_count": 15,
     "metadata": {},
     "output_type": "execute_result"
    }
   ],
   "source": [
    "nickname4 = []\n",
    "for n in nickname3:\n",
    "    cognomen = n[0].split()\n",
    "    meaning = n[1]\n",
    "    mcog = cognomen[0]\n",
    "    if len(cognomen) > 1:\n",
    "        assert cognomen[1].startswith(\"(\"), f\"split: {cognomen[1]}\"\n",
    "        assert cognomen[1].endswith(\")\"), f\"split: {cognomen[1]}\"\n",
    "        fcog = cognomen[1].replace(\"(\", \"\").replace(\")\", \"\")\n",
    "    else:\n",
    "        fcog = mcog\n",
    "    nickname4.append((fcog, mcog, meaning))\n",
    "\n",
    "nickname4\n",
    "\n",
    "        "
   ]
  },
  {
   "cell_type": "code",
   "execution_count": 16,
   "metadata": {},
   "outputs": [
    {
     "data": {
      "text/plain": [
       "[('Aculeo', 'Aculeo', '“surly”'),\n",
       " ('Agricola', 'Agricola', '“farmer”'),\n",
       " ('Albina', 'Albinus', '“pale”'),\n",
       " ('Alba', 'Albus', '“fair skinned”'),\n",
       " ('Aquilina', 'Aquilinus', '“like an eagle”'),\n",
       " ('Arvina', 'Arvina', '“fat”'),\n",
       " ('Asina', 'Asina', '“like an ass”'),\n",
       " ('Atella', 'Atellus', '“dark haired”'),\n",
       " ('Bassa', 'Bassus', '“plump”'),\n",
       " ('Bestia', 'Bestia', '“like an animal”'),\n",
       " ('Bibula', 'Bibulus', '“drunk”'),\n",
       " ('Bruta', 'Brutus', '“stupid”'),\n",
       " ('Bubulca', 'Bubulcus', '“cattle drover”'),\n",
       " ('Bucco', 'Bucco', '“fool”'),\n",
       " ('Buteo', 'Buteo', '“like a vulture”'),\n",
       " ('Calida', 'Calidus', '“hot headed”'),\n",
       " ('Calva', 'Calvus', '“bald”'),\n",
       " ('Canina', 'Caninus', '“like a dog”'),\n",
       " ('Cana', 'Canus', '“light haired”'),\n",
       " ('Celsa', 'Celsus', '“tall”'),\n",
       " ('Corvina', 'Corvinus', '“like a crow”'),\n",
       " ('Crassa', 'Crassus', '“fat”'),\n",
       " ('Crispa', 'Crispus', '“curly haired”'),\n",
       " ('Cæpio', 'Cæpio', '“grocer”'),\n",
       " ('Figula', 'Figulus', '“potter”'),\n",
       " ('Flava', 'Flavus', '“yellow haired”'),\n",
       " ('Fullo', 'Fullo', '“fuller”'),\n",
       " ('Gemella', 'Gemellus', '“twin sibling”'),\n",
       " ('Helva', 'Helva', '“brown haired”'),\n",
       " ('Laterensis', 'Laterensis', '“lives in the hills”'),\n",
       " ('Longa', 'Longus', '“tall”'),\n",
       " ('Lupa', 'Lupus', '“like a wolf ”'),\n",
       " ('Lurco', 'Lurco', '“glutton”'),\n",
       " ('Macra', 'Macer', '“thin”'),\n",
       " ('Merga', 'Mergus', '“like a gull”'),\n",
       " ('Mus', 'Mus', '“like a mouse”'),\n",
       " ('Naso', 'Naso', '“big nosed”'),\n",
       " ('Natta', 'Natta', '“artisan”'),\n",
       " ('Nigra', 'Niger', '“dark haired”'),\n",
       " ('Pavo', 'Pavo', '“like a peacock”'),\n",
       " ('Pictrix', 'Pictor', '“painter”'),\n",
       " ('Pulchra', 'Pulcher', '“good looking”'),\n",
       " ('Purpureo', 'Purpureo', '“purplish complexion”'),\n",
       " ('Quadrata', 'Quadratus', '“stocky”'),\n",
       " ('Rufa', 'Rufus', '“red haired”'),\n",
       " ('Salinatrix', 'Salinator', '“salt miner”'),\n",
       " ('Taura', 'Taurus', '“like a bull”'),\n",
       " ('Vara', 'Varus', '“bow-legged”'),\n",
       " ('Verres', 'Verres', '“like a pig”'),\n",
       " ('Vitula', 'Vitulus', '“like a cow”')]"
      ]
     },
     "execution_count": 16,
     "metadata": {},
     "output_type": "execute_result"
    }
   ],
   "source": [
    "nickname4.sort(key=lambda x: x[1])\n",
    "nickname4"
   ]
  },
  {
   "cell_type": "code",
   "execution_count": 17,
   "metadata": {},
   "outputs": [],
   "source": [
    "with open(\"t190_roman_cognomen.txt\", \"w\") as f:\n",
    "    f.write(\"id\\tfemale_name\\tmale_name\\tmeaning\\n\")\n",
    "    for i, n in enumerate(nickname4, start=1):\n",
    "        f.write(f\"{i}\\t{n[0]}\\t{n[1]}\\t{n[2]}\\n\")\n",
    "    # for i, idx in enumerate(range(len(female_names)), start=1):\n",
    "    #     f.write(f\"{i}\\t{female_names[idx]}\\t{male_names[idx]}\\n\")"
   ]
  },
  {
   "cell_type": "code",
   "execution_count": null,
   "metadata": {},
   "outputs": [],
   "source": []
  }
 ],
 "metadata": {
  "kernelspec": {
   "display_name": "hyperborea-data",
   "language": "python",
   "name": "python3"
  },
  "language_info": {
   "codemirror_mode": {
    "name": "ipython",
    "version": 3
   },
   "file_extension": ".py",
   "mimetype": "text/x-python",
   "name": "python",
   "nbconvert_exporter": "python",
   "pygments_lexer": "ipython3",
   "version": "3.10.9"
  },
  "orig_nbformat": 4,
  "vscode": {
   "interpreter": {
    "hash": "acb019856f73b84eca86819462a39e3d7bccc0acdbb6a07dbb432495ff0ddd72"
   }
  }
 },
 "nbformat": 4,
 "nbformat_minor": 2
}
