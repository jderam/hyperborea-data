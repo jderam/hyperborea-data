{
 "cells": [
  {
   "cell_type": "code",
   "execution_count": 1,
   "metadata": {},
   "outputs": [],
   "source": [
    "female = \"\"\"01–02 Agaue 21–22 Arete 41–42 Galatea 61–62 Laodike 81–82 Phyllis\n",
    "03–04 Airope 23–24 Artemidora 43–44 Gorgo 63–64 Ligeia 83–84 Polydamna\n",
    "05–06 Aithra 25–26 Auge 45–46 Halia 65–66 Marpessa 85–86 Polyxena\n",
    "07–08 Alkestis 27–28 Charikleia 47–48 Harmodios 67–68 Megæra 87–88 Rhoxane\n",
    "09–10 Alkippe 29–30 Deianeira 49–50 Iphimedeia 69–70 Olympias 89–90 Sostrate\n",
    "11–12 Alkmene 31–32 Diomede 51–52 Kalypso 71–72 Pasiphæ 91–92 Telephassa\n",
    "13–14 Amphithoe 33–34 Dorothea 53–54 Kharmion 73–74 Perialla 93–94 Xanthe\n",
    "15–16 Amphitrite 35–36 Dynamene 55–56 Khryseis 75–76 Phaidra 95–96 Xanthippe\n",
    "17–18 Antheia 37–38 Eidothea 57–58 Khyrse 77–78 Pherenike 97–98 Xene\n",
    "19–20 Antiochis 39–40 Eunike 59–60 Klymene 79–80 Philomela 99–00 Zosime\n",
    "\"\"\"\n",
    "\n",
    "male = \"\"\"01–02 Agathokles 21–22 Daphnis 41–42 Heron 61–62 Menekrates 81–82 Ptolemaios\n",
    "03–04 Agenor 23–24 Demoleon 43–44 Hippasos 63–64 Nikandros 83–84 Sophokles\n",
    "05–06 Aietes 25–26 Epaphroditos 45–46 Iason 65–66 Onesimos 85–86 Telamon\n",
    "07–08 Akrisios 27–28 Eudoxos 47–48 Isagoras 67–68 Orsilochos 87–88 Telesphoros\n",
    "09–10 Antichares 29–30 Eugammon 49–50 Kleitos 69–70 Panetios 89–90 Thales\n",
    "11–12 Antiochos 31–32 Eumastas 51–52 Kleomenes 71–72 Phalanthos 91–92 Theognis\n",
    "13–14 Antisthenes 33–34 Eumenes 53–54 Kynægeiros 73–74 Phegeus 93–94 Thrasyboulos\n",
    "15–16 Bion 35–36 Euonomos 55–56 Leukippos 75–76 Philokles 95–96 Tros\n",
    "17–18 Chrestos 37–38 Euthydemos 57–58 Lycophron 77–78 Philon 97–98 Xenokrates\n",
    "19–20 Damoetas 39–40 Galenos 59–60 Melas 79–80 Polyneikes 99–00 Zotikos\n",
    "\"\"\""
   ]
  },
  {
   "cell_type": "code",
   "execution_count": 2,
   "metadata": {},
   "outputs": [
    {
     "data": {
      "text/plain": [
       "50"
      ]
     },
     "execution_count": 2,
     "metadata": {},
     "output_type": "execute_result"
    }
   ],
   "source": [
    "female_names = [x for x in female.split() if \"–\" not in x]\n",
    "female_names.sort()\n",
    "len(female_names)"
   ]
  },
  {
   "cell_type": "code",
   "execution_count": 3,
   "metadata": {},
   "outputs": [
    {
     "data": {
      "text/plain": [
       "['Agaue',\n",
       " 'Airope',\n",
       " 'Aithra',\n",
       " 'Alkestis',\n",
       " 'Alkippe',\n",
       " 'Alkmene',\n",
       " 'Amphithoe',\n",
       " 'Amphitrite',\n",
       " 'Antheia',\n",
       " 'Antiochis',\n",
       " 'Arete',\n",
       " 'Artemidora',\n",
       " 'Auge',\n",
       " 'Charikleia',\n",
       " 'Deianeira',\n",
       " 'Diomede',\n",
       " 'Dorothea',\n",
       " 'Dynamene',\n",
       " 'Eidothea',\n",
       " 'Eunike',\n",
       " 'Galatea',\n",
       " 'Gorgo',\n",
       " 'Halia',\n",
       " 'Harmodios',\n",
       " 'Iphimedeia',\n",
       " 'Kalypso',\n",
       " 'Kharmion',\n",
       " 'Khryseis',\n",
       " 'Khyrse',\n",
       " 'Klymene',\n",
       " 'Laodike',\n",
       " 'Ligeia',\n",
       " 'Marpessa',\n",
       " 'Megæra',\n",
       " 'Olympias',\n",
       " 'Pasiphæ',\n",
       " 'Perialla',\n",
       " 'Phaidra',\n",
       " 'Pherenike',\n",
       " 'Philomela',\n",
       " 'Phyllis',\n",
       " 'Polydamna',\n",
       " 'Polyxena',\n",
       " 'Rhoxane',\n",
       " 'Sostrate',\n",
       " 'Telephassa',\n",
       " 'Xanthe',\n",
       " 'Xanthippe',\n",
       " 'Xene',\n",
       " 'Zosime']"
      ]
     },
     "execution_count": 3,
     "metadata": {},
     "output_type": "execute_result"
    }
   ],
   "source": [
    "female_names"
   ]
  },
  {
   "cell_type": "code",
   "execution_count": 4,
   "metadata": {},
   "outputs": [],
   "source": [
    "with open(\"t163_greek_female_names.txt\", \"w\") as f:\n",
    "    f.write(\"id\\tname\\n\")\n",
    "    for i, n in enumerate(female_names, start=1):\n",
    "        f.write(f\"{i}\\t{n}\\n\")"
   ]
  },
  {
   "cell_type": "code",
   "execution_count": 5,
   "metadata": {},
   "outputs": [
    {
     "data": {
      "text/plain": [
       "50"
      ]
     },
     "execution_count": 5,
     "metadata": {},
     "output_type": "execute_result"
    }
   ],
   "source": [
    "male_names = [x for x in male.split() if \"–\" not in x]\n",
    "male_names.sort()\n",
    "len(male_names)"
   ]
  },
  {
   "cell_type": "code",
   "execution_count": 6,
   "metadata": {},
   "outputs": [
    {
     "data": {
      "text/plain": [
       "['Agathokles',\n",
       " 'Agenor',\n",
       " 'Aietes',\n",
       " 'Akrisios',\n",
       " 'Antichares',\n",
       " 'Antiochos',\n",
       " 'Antisthenes',\n",
       " 'Bion',\n",
       " 'Chrestos',\n",
       " 'Damoetas',\n",
       " 'Daphnis',\n",
       " 'Demoleon',\n",
       " 'Epaphroditos',\n",
       " 'Eudoxos',\n",
       " 'Eugammon',\n",
       " 'Eumastas',\n",
       " 'Eumenes',\n",
       " 'Euonomos',\n",
       " 'Euthydemos',\n",
       " 'Galenos',\n",
       " 'Heron',\n",
       " 'Hippasos',\n",
       " 'Iason',\n",
       " 'Isagoras',\n",
       " 'Kleitos',\n",
       " 'Kleomenes',\n",
       " 'Kynægeiros',\n",
       " 'Leukippos',\n",
       " 'Lycophron',\n",
       " 'Melas',\n",
       " 'Menekrates',\n",
       " 'Nikandros',\n",
       " 'Onesimos',\n",
       " 'Orsilochos',\n",
       " 'Panetios',\n",
       " 'Phalanthos',\n",
       " 'Phegeus',\n",
       " 'Philokles',\n",
       " 'Philon',\n",
       " 'Polyneikes',\n",
       " 'Ptolemaios',\n",
       " 'Sophokles',\n",
       " 'Telamon',\n",
       " 'Telesphoros',\n",
       " 'Thales',\n",
       " 'Theognis',\n",
       " 'Thrasyboulos',\n",
       " 'Tros',\n",
       " 'Xenokrates',\n",
       " 'Zotikos']"
      ]
     },
     "execution_count": 6,
     "metadata": {},
     "output_type": "execute_result"
    }
   ],
   "source": [
    "male_names"
   ]
  },
  {
   "cell_type": "code",
   "execution_count": 7,
   "metadata": {},
   "outputs": [],
   "source": [
    "with open(\"t164_greek_male_names.txt\", \"w\") as f:\n",
    "    f.write(\"id\\tname\\n\")\n",
    "    for i, n in enumerate(male_names, start=1):\n",
    "        f.write(f\"{i}\\t{n}\\n\")"
   ]
  },
  {
   "cell_type": "code",
   "execution_count": null,
   "metadata": {},
   "outputs": [],
   "source": []
  }
 ],
 "metadata": {
  "kernelspec": {
   "display_name": "hyperborea-data",
   "language": "python",
   "name": "python3"
  },
  "language_info": {
   "codemirror_mode": {
    "name": "ipython",
    "version": 3
   },
   "file_extension": ".py",
   "mimetype": "text/x-python",
   "name": "python",
   "nbconvert_exporter": "python",
   "pygments_lexer": "ipython3",
   "version": "3.10.9"
  },
  "orig_nbformat": 4,
  "vscode": {
   "interpreter": {
    "hash": "acb019856f73b84eca86819462a39e3d7bccc0acdbb6a07dbb432495ff0ddd72"
   }
  }
 },
 "nbformat": 4,
 "nbformat_minor": 2
}
