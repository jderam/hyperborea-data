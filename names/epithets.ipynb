{
 "cells": [
  {
   "cell_type": "code",
   "execution_count": 6,
   "metadata": {},
   "outputs": [],
   "source": [
    "# manually put into columns\n",
    "epithet = \"\"\"11 the Ravenous\n",
    "31 the Learned\n",
    "51 Star-Blessed\n",
    "12 the Unyielding\n",
    "32 Oathbreaker\n",
    "52 the Cautious\n",
    "13 the Hideous\n",
    "33 the Callous\n",
    "53 the Resilient\n",
    "14 the Volcanic\n",
    "34 Beast-Friend\n",
    "54 the Pale\n",
    "15 the Mesmerizing\n",
    "35 the Shattered\n",
    "55 the Even-Handed\n",
    "16 the Undaunted\n",
    "36 the Steadfast\n",
    "56 the Gruesome\n",
    "21 the Blooded\n",
    "41 the Passionate\n",
    "61 the Matchless\n",
    "22 the Ageless\n",
    "42 the Prophet\n",
    "62 the Unnatural\n",
    "23 the Toothsome\n",
    "43 the Ill-Tempered\n",
    "63 the Keen\n",
    "24 the Apt\n",
    "44 Wind-Born\n",
    "64 Bone-Breaker\n",
    "25 the Lusty\n",
    "45 the Ungainly\n",
    "65 the Shiftless\n",
    "26 the Coward\n",
    "46 the Vengeful\n",
    "66 the Sacred\"\"\""
   ]
  },
  {
   "cell_type": "code",
   "execution_count": 7,
   "metadata": {},
   "outputs": [
    {
     "data": {
      "text/plain": [
       "36"
      ]
     },
     "execution_count": 7,
     "metadata": {},
     "output_type": "execute_result"
    }
   ],
   "source": [
    "epithets = [x[3:] for x in epithet.split(\"\\n\")]\n",
    "len(epithets)"
   ]
  },
  {
   "cell_type": "code",
   "execution_count": 8,
   "metadata": {},
   "outputs": [
    {
     "data": {
      "text/plain": [
       "['the Ravenous',\n",
       " 'the Learned',\n",
       " 'Star-Blessed',\n",
       " 'the Unyielding',\n",
       " 'Oathbreaker',\n",
       " 'the Cautious',\n",
       " 'the Hideous',\n",
       " 'the Callous',\n",
       " 'the Resilient',\n",
       " 'the Volcanic',\n",
       " 'Beast-Friend',\n",
       " 'the Pale',\n",
       " 'the Mesmerizing',\n",
       " 'the Shattered',\n",
       " 'the Even-Handed',\n",
       " 'the Undaunted',\n",
       " 'the Steadfast',\n",
       " 'the Gruesome',\n",
       " 'the Blooded',\n",
       " 'the Passionate',\n",
       " 'the Matchless',\n",
       " 'the Ageless',\n",
       " 'the Prophet',\n",
       " 'the Unnatural',\n",
       " 'the Toothsome',\n",
       " 'the Ill-Tempered',\n",
       " 'the Keen',\n",
       " 'the Apt',\n",
       " 'Wind-Born',\n",
       " 'Bone-Breaker',\n",
       " 'the Lusty',\n",
       " 'the Ungainly',\n",
       " 'the Shiftless',\n",
       " 'the Coward',\n",
       " 'the Vengeful',\n",
       " 'the Sacred']"
      ]
     },
     "execution_count": 8,
     "metadata": {},
     "output_type": "execute_result"
    }
   ],
   "source": [
    "epithets"
   ]
  },
  {
   "cell_type": "code",
   "execution_count": 9,
   "metadata": {},
   "outputs": [],
   "source": [
    "with open(\"t197_epithets.txt\", \"w\") as f:\n",
    "    f.write(\"id\\tname\\n\")\n",
    "    for i, n in enumerate(epithets, start=1):\n",
    "        f.write(f\"{i}\\t{n}\\n\")"
   ]
  },
  {
   "cell_type": "code",
   "execution_count": null,
   "metadata": {},
   "outputs": [],
   "source": []
  }
 ],
 "metadata": {
  "kernelspec": {
   "display_name": "hyperborea-data",
   "language": "python",
   "name": "python3"
  },
  "language_info": {
   "codemirror_mode": {
    "name": "ipython",
    "version": 3
   },
   "file_extension": ".py",
   "mimetype": "text/x-python",
   "name": "python",
   "nbconvert_exporter": "python",
   "pygments_lexer": "ipython3",
   "version": "3.10.9"
  },
  "orig_nbformat": 4,
  "vscode": {
   "interpreter": {
    "hash": "acb019856f73b84eca86819462a39e3d7bccc0acdbb6a07dbb432495ff0ddd72"
   }
  }
 },
 "nbformat": 4,
 "nbformat_minor": 2
}
