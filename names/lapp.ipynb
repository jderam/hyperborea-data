{
 "cells": [
  {
   "cell_type": "code",
   "execution_count": 1,
   "metadata": {},
   "outputs": [],
   "source": [
    "female = \"\"\"1 Ádá 11 Inger\n",
    "2 Aliissá 12 Meret\n",
    "3 Amándá 13 Mimmi\n",
    "4 Ásta 14 Niná\n",
    "5 Elle 15 Olgá\n",
    "6 Evá 16 Ristiinna\n",
    "7 Florá 17 Sonjá\n",
    "8 Gunná 18 Sussu\n",
    "9 Helená 19 Unni\n",
    "10 Helgá 20 Venlá\n",
    "\"\"\"\n",
    "\n",
    "male = \"\"\"1 Ággi 11 Hugo\n",
    "2 Ámmon 12 Ivvar\n",
    "3 Ávgos 13 Jonás\n",
    "4 Bihto 14 Lágon\n",
    "5 Dávgon 15 Morte\n",
    "6 Duomis 16 Niikko\n",
    "7 Einár 17 Otto\n",
    "8 Guivi 18 Sabba\n",
    "9 Hegon 19 Viktor\n",
    "10 Holger 20 Volbmar\n",
    "\"\"\""
   ]
  },
  {
   "cell_type": "code",
   "execution_count": 2,
   "metadata": {},
   "outputs": [
    {
     "data": {
      "text/plain": [
       "20"
      ]
     },
     "execution_count": 2,
     "metadata": {},
     "output_type": "execute_result"
    }
   ],
   "source": [
    "female_names = []\n",
    "for n in female.split():\n",
    "    try:\n",
    "        int(n)\n",
    "    except:\n",
    "        female_names.append(n)\n",
    "female_names.sort()\n",
    "len(female_names)"
   ]
  },
  {
   "cell_type": "code",
   "execution_count": 3,
   "metadata": {},
   "outputs": [
    {
     "data": {
      "text/plain": [
       "['Aliissá',\n",
       " 'Amándá',\n",
       " 'Elle',\n",
       " 'Evá',\n",
       " 'Florá',\n",
       " 'Gunná',\n",
       " 'Helená',\n",
       " 'Helgá',\n",
       " 'Inger',\n",
       " 'Meret',\n",
       " 'Mimmi',\n",
       " 'Niná',\n",
       " 'Olgá',\n",
       " 'Ristiinna',\n",
       " 'Sonjá',\n",
       " 'Sussu',\n",
       " 'Unni',\n",
       " 'Venlá',\n",
       " 'Ádá',\n",
       " 'Ásta']"
      ]
     },
     "execution_count": 3,
     "metadata": {},
     "output_type": "execute_result"
    }
   ],
   "source": [
    "female_names"
   ]
  },
  {
   "cell_type": "code",
   "execution_count": 4,
   "metadata": {},
   "outputs": [],
   "source": [
    "female_names = [\n",
    "    'Ádá',\n",
    "    'Aliissá',\n",
    " 'Amándá',\n",
    " 'Ásta',\n",
    " 'Elle',\n",
    " 'Evá',\n",
    " 'Florá',\n",
    " 'Gunná',\n",
    " 'Helená',\n",
    " 'Helgá',\n",
    " 'Inger',\n",
    " 'Meret',\n",
    " 'Mimmi',\n",
    " 'Niná',\n",
    " 'Olgá',\n",
    " 'Ristiinna',\n",
    " 'Sonjá',\n",
    " 'Sussu',\n",
    " 'Unni',\n",
    " 'Venlá',\n",
    "]"
   ]
  },
  {
   "cell_type": "code",
   "execution_count": 5,
   "metadata": {},
   "outputs": [],
   "source": [
    "with open(\"t176_lapp_female_names.txt\", \"w\") as f:\n",
    "    f.write(\"id\\tname\\n\")\n",
    "    for i, n in enumerate(female_names, start=1):\n",
    "        f.write(f\"{i}\\t{n}\\n\")"
   ]
  },
  {
   "cell_type": "code",
   "execution_count": 6,
   "metadata": {},
   "outputs": [
    {
     "data": {
      "text/plain": [
       "20"
      ]
     },
     "execution_count": 6,
     "metadata": {},
     "output_type": "execute_result"
    }
   ],
   "source": [
    "male_names = []\n",
    "for n in male.split():\n",
    "    try:\n",
    "        int(n)\n",
    "    except:\n",
    "        male_names.append(n)\n",
    "male_names.sort()\n",
    "len(male_names)"
   ]
  },
  {
   "cell_type": "code",
   "execution_count": 7,
   "metadata": {},
   "outputs": [
    {
     "data": {
      "text/plain": [
       "['Bihto',\n",
       " 'Duomis',\n",
       " 'Dávgon',\n",
       " 'Einár',\n",
       " 'Guivi',\n",
       " 'Hegon',\n",
       " 'Holger',\n",
       " 'Hugo',\n",
       " 'Ivvar',\n",
       " 'Jonás',\n",
       " 'Lágon',\n",
       " 'Morte',\n",
       " 'Niikko',\n",
       " 'Otto',\n",
       " 'Sabba',\n",
       " 'Viktor',\n",
       " 'Volbmar',\n",
       " 'Ággi',\n",
       " 'Ámmon',\n",
       " 'Ávgos']"
      ]
     },
     "execution_count": 7,
     "metadata": {},
     "output_type": "execute_result"
    }
   ],
   "source": [
    "male_names"
   ]
  },
  {
   "cell_type": "code",
   "execution_count": 8,
   "metadata": {},
   "outputs": [],
   "source": [
    "male_names = [\n",
    "    'Ággi',\n",
    " 'Ámmon',\n",
    " 'Ávgos',\n",
    "    'Bihto',\n",
    " 'Duomis',\n",
    " 'Dávgon',\n",
    " 'Einár',\n",
    " 'Guivi',\n",
    " 'Hegon',\n",
    " 'Holger',\n",
    " 'Hugo',\n",
    " 'Ivvar',\n",
    " 'Jonás',\n",
    " 'Lágon',\n",
    " 'Morte',\n",
    " 'Niikko',\n",
    " 'Otto',\n",
    " 'Sabba',\n",
    " 'Viktor',\n",
    " 'Volbmar',\n",
    "]"
   ]
  },
  {
   "cell_type": "code",
   "execution_count": 9,
   "metadata": {},
   "outputs": [],
   "source": [
    "with open(\"t177_lapp_male_names.txt\", \"w\") as f:\n",
    "    f.write(\"id\\tname\\n\")\n",
    "    for i, n in enumerate(male_names, start=1):\n",
    "        f.write(f\"{i}\\t{n}\\n\")"
   ]
  },
  {
   "cell_type": "code",
   "execution_count": null,
   "metadata": {},
   "outputs": [],
   "source": []
  }
 ],
 "metadata": {
  "kernelspec": {
   "display_name": "hyperborea-data",
   "language": "python",
   "name": "python3"
  },
  "language_info": {
   "codemirror_mode": {
    "name": "ipython",
    "version": 3
   },
   "file_extension": ".py",
   "mimetype": "text/x-python",
   "name": "python",
   "nbconvert_exporter": "python",
   "pygments_lexer": "ipython3",
   "version": "3.10.9"
  },
  "orig_nbformat": 4,
  "vscode": {
   "interpreter": {
    "hash": "acb019856f73b84eca86819462a39e3d7bccc0acdbb6a07dbb432495ff0ddd72"
   }
  }
 },
 "nbformat": 4,
 "nbformat_minor": 2
}
