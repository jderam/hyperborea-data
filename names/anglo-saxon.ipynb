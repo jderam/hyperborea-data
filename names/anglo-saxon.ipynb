{
 "cells": [
  {
   "cell_type": "code",
   "execution_count": 1,
   "metadata": {},
   "outputs": [],
   "source": [
    "female = \"\"\"1 Ælfhild\n",
    "2 Ælfthryth\n",
    "3 Bealdthryth\n",
    "4 Beohrtric\n",
    "5 Beorhtburg\n",
    "6 Beorhtfrith\n",
    "7 Eadflæd\n",
    "8 Eadfrith\n",
    "9 Eadhild\n",
    "10 Ealdhild\n",
    "1 Ealdthryth\n",
    "2 Godbeald\n",
    "3 Godric\n",
    "4 Godthryth\n",
    "5 Gunnric\n",
    "6 Gunnsige\n",
    "7 Gunnthryth\n",
    "8 Gunnwig\n",
    "9 Hildgifu\n",
    "10 Leofor\n",
    "1 Leofweald\n",
    "2 Mildfrith\n",
    "3 Osgifu\n",
    "4 Osthryth\n",
    "5 Sæbeorht\n",
    "6 Sæsige\n",
    "7 Sæweald\n",
    "8 Sigefrith\n",
    "9 Sigegifu\n",
    "10 Sigehild\n",
    "1 Sigeweald\n",
    "2 Thurgifu\n",
    "3 Thurhild\n",
    "4 Wigburg\n",
    "5 Wigflæd\n",
    "6 Wigweald\n",
    "7 Winewaru\n",
    "8 Winewig\n",
    "9 Wulfhild\n",
    "10 Wulfmær\n",
    "\"\"\""
   ]
  },
  {
   "cell_type": "code",
   "execution_count": 4,
   "metadata": {},
   "outputs": [
    {
     "data": {
      "text/plain": [
       "40"
      ]
     },
     "execution_count": 4,
     "metadata": {},
     "output_type": "execute_result"
    }
   ],
   "source": [
    "female_names = []\n",
    "for n in female.split():\n",
    "    try:\n",
    "        int(n)\n",
    "    except:\n",
    "        female_names.append(n)\n",
    "# female_names.sort()\n",
    "len(female_names)"
   ]
  },
  {
   "cell_type": "code",
   "execution_count": 5,
   "metadata": {},
   "outputs": [
    {
     "data": {
      "text/plain": [
       "['Ælfhild',\n",
       " 'Ælfthryth',\n",
       " 'Bealdthryth',\n",
       " 'Beohrtric',\n",
       " 'Beorhtburg',\n",
       " 'Beorhtfrith',\n",
       " 'Eadflæd',\n",
       " 'Eadfrith',\n",
       " 'Eadhild',\n",
       " 'Ealdhild',\n",
       " 'Ealdthryth',\n",
       " 'Godbeald',\n",
       " 'Godric',\n",
       " 'Godthryth',\n",
       " 'Gunnric',\n",
       " 'Gunnsige',\n",
       " 'Gunnthryth',\n",
       " 'Gunnwig',\n",
       " 'Hildgifu',\n",
       " 'Leofor',\n",
       " 'Leofweald',\n",
       " 'Mildfrith',\n",
       " 'Osgifu',\n",
       " 'Osthryth',\n",
       " 'Sæbeorht',\n",
       " 'Sæsige',\n",
       " 'Sæweald',\n",
       " 'Sigefrith',\n",
       " 'Sigegifu',\n",
       " 'Sigehild',\n",
       " 'Sigeweald',\n",
       " 'Thurgifu',\n",
       " 'Thurhild',\n",
       " 'Wigburg',\n",
       " 'Wigflæd',\n",
       " 'Wigweald',\n",
       " 'Winewaru',\n",
       " 'Winewig',\n",
       " 'Wulfhild',\n",
       " 'Wulfmær']"
      ]
     },
     "execution_count": 5,
     "metadata": {},
     "output_type": "execute_result"
    }
   ],
   "source": [
    "female_names"
   ]
  },
  {
   "cell_type": "code",
   "execution_count": 6,
   "metadata": {},
   "outputs": [],
   "source": [
    "with open(\"t155_anglosaxon_female_names.txt\", \"w\") as f:\n",
    "    f.write(\"id\\tname\\n\")\n",
    "    for i, n in enumerate(female_names, start=1):\n",
    "        f.write(f\"{i}\\t{n}\\n\")"
   ]
  },
  {
   "cell_type": "code",
   "execution_count": 7,
   "metadata": {},
   "outputs": [],
   "source": [
    "male = \"\"\"1 Ælfgeat\n",
    "2 Ælfhard\n",
    "3 Bealdgeat\n",
    "4 Bealdheard\n",
    "5 Cuthbeald\n",
    "6 Cuthmund\n",
    "7 Cuthweard\n",
    "8 Deorbeald\n",
    "9 Deorgar\n",
    "10 Deornoth\n",
    "1 Deorric\n",
    "2 Deorweard\n",
    "3 Eadbeorht\n",
    "4 Eadstan\n",
    "5 Ealdbeald\n",
    "6 Ealdmund\n",
    "7 Ealdstan\n",
    "8 Godmær\n",
    "9 Godræd\n",
    "10 Heregar\n",
    "1 Herenoth\n",
    "2 Leofheard\n",
    "3 Osweald\n",
    "4 Oswulf\n",
    "5 Sæmær\n",
    "6 Sæweald\n",
    "7 Sigegeat\n",
    "8 Thurhere\n",
    "9 Thurmund\n",
    "10 Thurnoth\n",
    "1 Thursige\n",
    "2 Wigweard\n",
    "3 Winebeald\n",
    "4 Wineræd\n",
    "5 Wulfbeald\n",
    "6 Wulfheard\n",
    "7 Wulfnoth\n",
    "8 Wulfweard\n",
    "9 Wulfwig\n",
    "10 Wulfwine\n",
    "\"\"\""
   ]
  },
  {
   "cell_type": "code",
   "execution_count": 8,
   "metadata": {},
   "outputs": [
    {
     "data": {
      "text/plain": [
       "40"
      ]
     },
     "execution_count": 8,
     "metadata": {},
     "output_type": "execute_result"
    }
   ],
   "source": [
    "male_names = []\n",
    "for n in male.split():\n",
    "    try:\n",
    "        int(n)\n",
    "    except:\n",
    "        male_names.append(n)\n",
    "# male_names.sort()\n",
    "len(male_names)"
   ]
  },
  {
   "cell_type": "code",
   "execution_count": 9,
   "metadata": {},
   "outputs": [
    {
     "data": {
      "text/plain": [
       "['Ælfgeat',\n",
       " 'Ælfhard',\n",
       " 'Bealdgeat',\n",
       " 'Bealdheard',\n",
       " 'Cuthbeald',\n",
       " 'Cuthmund',\n",
       " 'Cuthweard',\n",
       " 'Deorbeald',\n",
       " 'Deorgar',\n",
       " 'Deornoth',\n",
       " 'Deorric',\n",
       " 'Deorweard',\n",
       " 'Eadbeorht',\n",
       " 'Eadstan',\n",
       " 'Ealdbeald',\n",
       " 'Ealdmund',\n",
       " 'Ealdstan',\n",
       " 'Godmær',\n",
       " 'Godræd',\n",
       " 'Heregar',\n",
       " 'Herenoth',\n",
       " 'Leofheard',\n",
       " 'Osweald',\n",
       " 'Oswulf',\n",
       " 'Sæmær',\n",
       " 'Sæweald',\n",
       " 'Sigegeat',\n",
       " 'Thurhere',\n",
       " 'Thurmund',\n",
       " 'Thurnoth',\n",
       " 'Thursige',\n",
       " 'Wigweard',\n",
       " 'Winebeald',\n",
       " 'Wineræd',\n",
       " 'Wulfbeald',\n",
       " 'Wulfheard',\n",
       " 'Wulfnoth',\n",
       " 'Wulfweard',\n",
       " 'Wulfwig',\n",
       " 'Wulfwine']"
      ]
     },
     "execution_count": 9,
     "metadata": {},
     "output_type": "execute_result"
    }
   ],
   "source": [
    "male_names"
   ]
  },
  {
   "cell_type": "code",
   "execution_count": 10,
   "metadata": {},
   "outputs": [],
   "source": [
    "with open(\"t156_anglosaxon_male_names.txt\", \"w\") as f:\n",
    "    f.write(\"id\\tname\\n\")\n",
    "    for i, n in enumerate(male_names, start=1):\n",
    "        f.write(f\"{i}\\t{n}\\n\")"
   ]
  },
  {
   "cell_type": "code",
   "execution_count": null,
   "metadata": {},
   "outputs": [],
   "source": []
  }
 ],
 "metadata": {
  "kernelspec": {
   "display_name": "hyperborea-data",
   "language": "python",
   "name": "python3"
  },
  "language_info": {
   "codemirror_mode": {
    "name": "ipython",
    "version": 3
   },
   "file_extension": ".py",
   "mimetype": "text/x-python",
   "name": "python",
   "nbconvert_exporter": "python",
   "pygments_lexer": "ipython3",
   "version": "3.10.9"
  },
  "orig_nbformat": 4,
  "vscode": {
   "interpreter": {
    "hash": "acb019856f73b84eca86819462a39e3d7bccc0acdbb6a07dbb432495ff0ddd72"
   }
  }
 },
 "nbformat": 4,
 "nbformat_minor": 2
}
