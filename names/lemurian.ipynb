{
 "cells": [
  {
   "cell_type": "code",
   "execution_count": 1,
   "metadata": {},
   "outputs": [],
   "source": [
    "family = \"\"\"1 Ando Han Pai\n",
    "2 Anjo Hong/Hung Pao\n",
    "3 Anzai Hu Qui\n",
    "4 Baba Izan Seung\n",
    "5 Bai Ji Sieng\n",
    "6 Bun Jiao Song\n",
    "7 Chan Jin T’ien\n",
    "8 Chei/Chey Kang Tang\n",
    "9 Chen Kesuma Tengan\n",
    "10 Ch’ing Keung/Kung Ts’ai\n",
    "11 Dai Lao/Liao Yan/Yen\n",
    "12 Dawa Leung/Lung Yang\n",
    "13 Domen Lin Yu\n",
    "14 Endo Lo Yuan\n",
    "15 Fan Lu/Lui Wada\n",
    "16 Feng Mai Wei\n",
    "17 Fuku Nago Wong\n",
    "18 Gao Naido Zhang\n",
    "19 Goda Naizen Zhao\n",
    "20 Guo Onaga Zhuge\n",
    "\"\"\"\n",
    "\n",
    "female = \"\"\"1 Ahmisa Fo-hsing Kisen Tai-zhi\n",
    "2 Ai Fo-mai Lin Tashi\n",
    "3 Aiun Fu Ling Tetzuko\n",
    "4 Amala Fuko Mai Tien\n",
    "5 Amaryn Giyu Malai Ubon\n",
    "6 Amrita Gokuu Mei Utari\n",
    "7 Annen Guanyu Moyoku Vinita\n",
    "8 Anong Hai Muo-an Wulan\n",
    "9 Baiko Hanmei Muoko Xiu\n",
    "10 Bulan Heiki Nehtaya Xuen\n",
    "11 Chandani Hui-ko Ning Ya\n",
    "12 Chikan Ichika Nuan Yakuko\n",
    "13 Chikyo Ji’un Onko Yao\n",
    "14 Chun Jue Rhijuta Yin\n",
    "15 Dainei Kai Ryoko Ying\n",
    "16 Dannan Kanda Seishi Zan\n",
    "17 Devi Kaori Shoka Zao\n",
    "18 Doyo Keiren Shonu Zenko\n",
    "19 Eika Khunying Soyu Zhen\n",
    "20 Fen Kijo Su Zuiki\n",
    "\"\"\"\n",
    "\n",
    "male = \"\"\"1 Agung Fudo Jun Renzo 11 Chen Hodo Manjin Tuan\n",
    "2 Anzen Fu-jin Kaigen Rinchen 12 Cheng Hogeku Ming Wado\n",
    "3 Baiken Gan Kenzin Saigen 13 Chigen Huan Mugai Wu\n",
    "4 Banzan Ganzin Kukan Sansho 14 Chozen Huang Mugen Xiang\n",
    "5 Bao Genpo Kuzuma Shang 15 Chudo Hui Myojin Xun\n",
    "6 Bong Gen’un Li Shishan 16 Daigo Jakugen Nenko Yi\n",
    "7 Buaku Go’en Liao Shusheng 17 Daizan Jin Nitai Zaigen\n",
    "8 Buato Gyoji Ling Soen 18 Dong Jing-di Pan Zekkei\n",
    "9 Chang Hakaku Lung Taigo 19 Engu Jinzo Qiang Zhi\n",
    "10 Chao Hoan Mako Taigen 20 Enzei Joyo Qing Zhou\n",
    "\"\"\"\n"
   ]
  },
  {
   "cell_type": "code",
   "execution_count": 2,
   "metadata": {},
   "outputs": [
    {
     "data": {
      "text/plain": [
       "60"
      ]
     },
     "execution_count": 2,
     "metadata": {},
     "output_type": "execute_result"
    }
   ],
   "source": [
    "family_names = []\n",
    "for n in family.split():\n",
    "    try:\n",
    "        int(n)\n",
    "    except:\n",
    "        family_names.append(n)\n",
    "family_names.sort()\n",
    "len(family_names)"
   ]
  },
  {
   "cell_type": "code",
   "execution_count": 3,
   "metadata": {},
   "outputs": [
    {
     "data": {
      "text/plain": [
       "['Ando',\n",
       " 'Anjo',\n",
       " 'Anzai',\n",
       " 'Baba',\n",
       " 'Bai',\n",
       " 'Bun',\n",
       " 'Chan',\n",
       " 'Chei/Chey',\n",
       " 'Chen',\n",
       " 'Ch’ing',\n",
       " 'Dai',\n",
       " 'Dawa',\n",
       " 'Domen',\n",
       " 'Endo',\n",
       " 'Fan',\n",
       " 'Feng',\n",
       " 'Fuku',\n",
       " 'Gao',\n",
       " 'Goda',\n",
       " 'Guo',\n",
       " 'Han',\n",
       " 'Hong/Hung',\n",
       " 'Hu',\n",
       " 'Izan',\n",
       " 'Ji',\n",
       " 'Jiao',\n",
       " 'Jin',\n",
       " 'Kang',\n",
       " 'Kesuma',\n",
       " 'Keung/Kung',\n",
       " 'Lao/Liao',\n",
       " 'Leung/Lung',\n",
       " 'Lin',\n",
       " 'Lo',\n",
       " 'Lu/Lui',\n",
       " 'Mai',\n",
       " 'Nago',\n",
       " 'Naido',\n",
       " 'Naizen',\n",
       " 'Onaga',\n",
       " 'Pai',\n",
       " 'Pao',\n",
       " 'Qui',\n",
       " 'Seung',\n",
       " 'Sieng',\n",
       " 'Song',\n",
       " 'Tang',\n",
       " 'Tengan',\n",
       " 'Ts’ai',\n",
       " 'T’ien',\n",
       " 'Wada',\n",
       " 'Wei',\n",
       " 'Wong',\n",
       " 'Yan/Yen',\n",
       " 'Yang',\n",
       " 'Yu',\n",
       " 'Yuan',\n",
       " 'Zhang',\n",
       " 'Zhao',\n",
       " 'Zhuge']"
      ]
     },
     "execution_count": 3,
     "metadata": {},
     "output_type": "execute_result"
    }
   ],
   "source": [
    "family_names"
   ]
  },
  {
   "cell_type": "code",
   "execution_count": 4,
   "metadata": {},
   "outputs": [],
   "source": [
    "with open(\"t179_lemurian_family_names.txt\", \"w\") as f:\n",
    "    f.write(\"id\\tname\\n\")\n",
    "    for i, n in enumerate(family_names, start=1):\n",
    "        f.write(f\"{i}\\t{n}\\n\")"
   ]
  },
  {
   "cell_type": "code",
   "execution_count": 5,
   "metadata": {},
   "outputs": [
    {
     "data": {
      "text/plain": [
       "80"
      ]
     },
     "execution_count": 5,
     "metadata": {},
     "output_type": "execute_result"
    }
   ],
   "source": [
    "female_names = []\n",
    "for n in female.split():\n",
    "    try:\n",
    "        int(n)\n",
    "    except:\n",
    "        female_names.append(n)\n",
    "female_names.sort()\n",
    "len(female_names)"
   ]
  },
  {
   "cell_type": "code",
   "execution_count": 6,
   "metadata": {},
   "outputs": [
    {
     "data": {
      "text/plain": [
       "['Ahmisa',\n",
       " 'Ai',\n",
       " 'Aiun',\n",
       " 'Amala',\n",
       " 'Amaryn',\n",
       " 'Amrita',\n",
       " 'Annen',\n",
       " 'Anong',\n",
       " 'Baiko',\n",
       " 'Bulan',\n",
       " 'Chandani',\n",
       " 'Chikan',\n",
       " 'Chikyo',\n",
       " 'Chun',\n",
       " 'Dainei',\n",
       " 'Dannan',\n",
       " 'Devi',\n",
       " 'Doyo',\n",
       " 'Eika',\n",
       " 'Fen',\n",
       " 'Fo-hsing',\n",
       " 'Fo-mai',\n",
       " 'Fu',\n",
       " 'Fuko',\n",
       " 'Giyu',\n",
       " 'Gokuu',\n",
       " 'Guanyu',\n",
       " 'Hai',\n",
       " 'Hanmei',\n",
       " 'Heiki',\n",
       " 'Hui-ko',\n",
       " 'Ichika',\n",
       " 'Ji’un',\n",
       " 'Jue',\n",
       " 'Kai',\n",
       " 'Kanda',\n",
       " 'Kaori',\n",
       " 'Keiren',\n",
       " 'Khunying',\n",
       " 'Kijo',\n",
       " 'Kisen',\n",
       " 'Lin',\n",
       " 'Ling',\n",
       " 'Mai',\n",
       " 'Malai',\n",
       " 'Mei',\n",
       " 'Moyoku',\n",
       " 'Muo-an',\n",
       " 'Muoko',\n",
       " 'Nehtaya',\n",
       " 'Ning',\n",
       " 'Nuan',\n",
       " 'Onko',\n",
       " 'Rhijuta',\n",
       " 'Ryoko',\n",
       " 'Seishi',\n",
       " 'Shoka',\n",
       " 'Shonu',\n",
       " 'Soyu',\n",
       " 'Su',\n",
       " 'Tai-zhi',\n",
       " 'Tashi',\n",
       " 'Tetzuko',\n",
       " 'Tien',\n",
       " 'Ubon',\n",
       " 'Utari',\n",
       " 'Vinita',\n",
       " 'Wulan',\n",
       " 'Xiu',\n",
       " 'Xuen',\n",
       " 'Ya',\n",
       " 'Yakuko',\n",
       " 'Yao',\n",
       " 'Yin',\n",
       " 'Ying',\n",
       " 'Zan',\n",
       " 'Zao',\n",
       " 'Zenko',\n",
       " 'Zhen',\n",
       " 'Zuiki']"
      ]
     },
     "execution_count": 6,
     "metadata": {},
     "output_type": "execute_result"
    }
   ],
   "source": [
    "female_names"
   ]
  },
  {
   "cell_type": "code",
   "execution_count": 7,
   "metadata": {},
   "outputs": [],
   "source": [
    "with open(\"t180_lemurian_female_names.txt\", \"w\") as f:\n",
    "    f.write(\"id\\tname\\n\")\n",
    "    for i, n in enumerate(female_names, start=1):\n",
    "        f.write(f\"{i}\\t{n}\\n\")"
   ]
  },
  {
   "cell_type": "code",
   "execution_count": 8,
   "metadata": {},
   "outputs": [
    {
     "data": {
      "text/plain": [
       "80"
      ]
     },
     "execution_count": 8,
     "metadata": {},
     "output_type": "execute_result"
    }
   ],
   "source": [
    "male_names = []\n",
    "for n in male.split():\n",
    "    try:\n",
    "        int(n)\n",
    "    except:\n",
    "        male_names.append(n)\n",
    "male_names.sort()\n",
    "len(male_names)"
   ]
  },
  {
   "cell_type": "code",
   "execution_count": 9,
   "metadata": {},
   "outputs": [
    {
     "data": {
      "text/plain": [
       "['Agung',\n",
       " 'Anzen',\n",
       " 'Baiken',\n",
       " 'Banzan',\n",
       " 'Bao',\n",
       " 'Bong',\n",
       " 'Buaku',\n",
       " 'Buato',\n",
       " 'Chang',\n",
       " 'Chao',\n",
       " 'Chen',\n",
       " 'Cheng',\n",
       " 'Chigen',\n",
       " 'Chozen',\n",
       " 'Chudo',\n",
       " 'Daigo',\n",
       " 'Daizan',\n",
       " 'Dong',\n",
       " 'Engu',\n",
       " 'Enzei',\n",
       " 'Fu-jin',\n",
       " 'Fudo',\n",
       " 'Gan',\n",
       " 'Ganzin',\n",
       " 'Genpo',\n",
       " 'Gen’un',\n",
       " 'Go’en',\n",
       " 'Gyoji',\n",
       " 'Hakaku',\n",
       " 'Hoan',\n",
       " 'Hodo',\n",
       " 'Hogeku',\n",
       " 'Huan',\n",
       " 'Huang',\n",
       " 'Hui',\n",
       " 'Jakugen',\n",
       " 'Jin',\n",
       " 'Jing-di',\n",
       " 'Jinzo',\n",
       " 'Joyo',\n",
       " 'Jun',\n",
       " 'Kaigen',\n",
       " 'Kenzin',\n",
       " 'Kukan',\n",
       " 'Kuzuma',\n",
       " 'Li',\n",
       " 'Liao',\n",
       " 'Ling',\n",
       " 'Lung',\n",
       " 'Mako',\n",
       " 'Manjin',\n",
       " 'Ming',\n",
       " 'Mugai',\n",
       " 'Mugen',\n",
       " 'Myojin',\n",
       " 'Nenko',\n",
       " 'Nitai',\n",
       " 'Pan',\n",
       " 'Qiang',\n",
       " 'Qing',\n",
       " 'Renzo',\n",
       " 'Rinchen',\n",
       " 'Saigen',\n",
       " 'Sansho',\n",
       " 'Shang',\n",
       " 'Shishan',\n",
       " 'Shusheng',\n",
       " 'Soen',\n",
       " 'Taigen',\n",
       " 'Taigo',\n",
       " 'Tuan',\n",
       " 'Wado',\n",
       " 'Wu',\n",
       " 'Xiang',\n",
       " 'Xun',\n",
       " 'Yi',\n",
       " 'Zaigen',\n",
       " 'Zekkei',\n",
       " 'Zhi',\n",
       " 'Zhou']"
      ]
     },
     "execution_count": 9,
     "metadata": {},
     "output_type": "execute_result"
    }
   ],
   "source": [
    "male_names"
   ]
  },
  {
   "cell_type": "code",
   "execution_count": 10,
   "metadata": {},
   "outputs": [],
   "source": [
    "with open(\"t181_lemurian_male_names.txt\", \"w\") as f:\n",
    "    f.write(\"id\\tname\\n\")\n",
    "    for i, n in enumerate(male_names, start=1):\n",
    "        f.write(f\"{i}\\t{n}\\n\")"
   ]
  },
  {
   "cell_type": "code",
   "execution_count": null,
   "metadata": {},
   "outputs": [],
   "source": []
  }
 ],
 "metadata": {
  "kernelspec": {
   "display_name": "hyperborea-data",
   "language": "python",
   "name": "python3"
  },
  "language_info": {
   "codemirror_mode": {
    "name": "ipython",
    "version": 3
   },
   "file_extension": ".py",
   "mimetype": "text/x-python",
   "name": "python",
   "nbconvert_exporter": "python",
   "pygments_lexer": "ipython3",
   "version": "3.10.9"
  },
  "orig_nbformat": 4,
  "vscode": {
   "interpreter": {
    "hash": "acb019856f73b84eca86819462a39e3d7bccc0acdbb6a07dbb432495ff0ddd72"
   }
  }
 },
 "nbformat": 4,
 "nbformat_minor": 2
}
