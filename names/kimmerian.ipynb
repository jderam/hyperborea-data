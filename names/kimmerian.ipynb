{
 "cells": [
  {
   "cell_type": "code",
   "execution_count": 1,
   "metadata": {},
   "outputs": [],
   "source": [
    "female = \"\"\"1 Agape\n",
    "2 Agathe\n",
    "3 Alexandra\n",
    "4 Aristomache\n",
    "5 Aspasia\n",
    "6 Athanasia\n",
    "7 Chrysanthe\n",
    "8 Demostrate\n",
    "9 Elpis\n",
    "10 Euanthe\n",
    "11 Eudokia\n",
    "12 Eudoxia\n",
    "13 Eulalia\n",
    "14 Eunike\n",
    "15 Euphemia\n",
    "16 Euphrasia\n",
    "17 Euthalia\n",
    "18 Euthymia\n",
    "19 Eutropia\n",
    "20 Galene\n",
    "1 Helene\n",
    "2 Hypatia\n",
    "3 Kallisto\n",
    "4 Kallistrate\n",
    "5 Kleopatra\n",
    "6 Korinna\n",
    "7 Lysandra\n",
    "8 Lysistrate\n",
    "9 Phoibe\n",
    "10 Photine\n",
    "11 Ptolemais\n",
    "12 Sappho\n",
    "13 Sophia\n",
    "14 Sostrate\n",
    "15 Syntyche\n",
    "16 Timo\n",
    "17 Tryphosa\n",
    "18 Xenia\n",
    "19 Xeno\n",
    "20 Zosime\n",
    "\"\"\"\n",
    "\n",
    "male = \"\"\"1 Agathon\n",
    "2 Alexandros\n",
    "3 Alexios\n",
    "4 Anakletos\n",
    "5 Andronikos\n",
    "6 Antigonos\n",
    "7 Archippos\n",
    "8 Aristeides\n",
    "9 Aristokles\n",
    "10 Ariston\n",
    "11 Drakon\n",
    "12 Eukleides\n",
    "13 Euphemios\n",
    "14 Galenos\n",
    "15 Heliodoros\n",
    "16 Herakleides\n",
    "17 Herodotos\n",
    "18 Heron\n",
    "19 Hippolytos\n",
    "20 Iason\n",
    "1 Kleon\n",
    "2 Krimmos\n",
    "3 Leonidas\n",
    "4 Lykos\n",
    "5 Lysandros\n",
    "6 Nikandros\n",
    "7 Nikephoros\n",
    "8 Nikomedes\n",
    "9 Pantheras\n",
    "10 Paramonos\n",
    "11 Photios\n",
    "12 Platon\n",
    "13 Pyrrhos\n",
    "14 Sokrates\n",
    "15 Sophokles\n",
    "16 Straton\n",
    "17 Theron\n",
    "18 Tychon\n",
    "19 Xenokrates\n",
    "20 Zotikos\n",
    "\"\"\""
   ]
  },
  {
   "cell_type": "code",
   "execution_count": 2,
   "metadata": {},
   "outputs": [
    {
     "data": {
      "text/plain": [
       "40"
      ]
     },
     "execution_count": 2,
     "metadata": {},
     "output_type": "execute_result"
    }
   ],
   "source": [
    "female_names = []\n",
    "for n in female.split():\n",
    "    try:\n",
    "        int(n)\n",
    "    except:\n",
    "        female_names.append(n)\n",
    "len(female_names)"
   ]
  },
  {
   "cell_type": "code",
   "execution_count": 3,
   "metadata": {},
   "outputs": [
    {
     "data": {
      "text/plain": [
       "['Agape',\n",
       " 'Agathe',\n",
       " 'Alexandra',\n",
       " 'Aristomache',\n",
       " 'Aspasia',\n",
       " 'Athanasia',\n",
       " 'Chrysanthe',\n",
       " 'Demostrate',\n",
       " 'Elpis',\n",
       " 'Euanthe',\n",
       " 'Eudokia',\n",
       " 'Eudoxia',\n",
       " 'Eulalia',\n",
       " 'Eunike',\n",
       " 'Euphemia',\n",
       " 'Euphrasia',\n",
       " 'Euthalia',\n",
       " 'Euthymia',\n",
       " 'Eutropia',\n",
       " 'Galene',\n",
       " 'Helene',\n",
       " 'Hypatia',\n",
       " 'Kallisto',\n",
       " 'Kallistrate',\n",
       " 'Kleopatra',\n",
       " 'Korinna',\n",
       " 'Lysandra',\n",
       " 'Lysistrate',\n",
       " 'Phoibe',\n",
       " 'Photine',\n",
       " 'Ptolemais',\n",
       " 'Sappho',\n",
       " 'Sophia',\n",
       " 'Sostrate',\n",
       " 'Syntyche',\n",
       " 'Timo',\n",
       " 'Tryphosa',\n",
       " 'Xenia',\n",
       " 'Xeno',\n",
       " 'Zosime']"
      ]
     },
     "execution_count": 3,
     "metadata": {},
     "output_type": "execute_result"
    }
   ],
   "source": [
    "female_names"
   ]
  },
  {
   "cell_type": "code",
   "execution_count": 4,
   "metadata": {},
   "outputs": [],
   "source": [
    "with open(\"t172_kimmerian_female_names.txt\", \"w\") as f:\n",
    "    f.write(\"id\\tname\\n\")\n",
    "    for i, n in enumerate(female_names, start=1):\n",
    "        f.write(f\"{i}\\t{n}\\n\")"
   ]
  },
  {
   "cell_type": "code",
   "execution_count": 5,
   "metadata": {},
   "outputs": [
    {
     "data": {
      "text/plain": [
       "40"
      ]
     },
     "execution_count": 5,
     "metadata": {},
     "output_type": "execute_result"
    }
   ],
   "source": [
    "male_names = []\n",
    "for n in male.split():\n",
    "    try:\n",
    "        int(n)\n",
    "    except:\n",
    "        male_names.append(n)\n",
    "len(male_names)"
   ]
  },
  {
   "cell_type": "code",
   "execution_count": 6,
   "metadata": {},
   "outputs": [
    {
     "data": {
      "text/plain": [
       "['Agathon',\n",
       " 'Alexandros',\n",
       " 'Alexios',\n",
       " 'Anakletos',\n",
       " 'Andronikos',\n",
       " 'Antigonos',\n",
       " 'Archippos',\n",
       " 'Aristeides',\n",
       " 'Aristokles',\n",
       " 'Ariston',\n",
       " 'Drakon',\n",
       " 'Eukleides',\n",
       " 'Euphemios',\n",
       " 'Galenos',\n",
       " 'Heliodoros',\n",
       " 'Herakleides',\n",
       " 'Herodotos',\n",
       " 'Heron',\n",
       " 'Hippolytos',\n",
       " 'Iason',\n",
       " 'Kleon',\n",
       " 'Krimmos',\n",
       " 'Leonidas',\n",
       " 'Lykos',\n",
       " 'Lysandros',\n",
       " 'Nikandros',\n",
       " 'Nikephoros',\n",
       " 'Nikomedes',\n",
       " 'Pantheras',\n",
       " 'Paramonos',\n",
       " 'Photios',\n",
       " 'Platon',\n",
       " 'Pyrrhos',\n",
       " 'Sokrates',\n",
       " 'Sophokles',\n",
       " 'Straton',\n",
       " 'Theron',\n",
       " 'Tychon',\n",
       " 'Xenokrates',\n",
       " 'Zotikos']"
      ]
     },
     "execution_count": 6,
     "metadata": {},
     "output_type": "execute_result"
    }
   ],
   "source": [
    "male_names"
   ]
  },
  {
   "cell_type": "code",
   "execution_count": 7,
   "metadata": {},
   "outputs": [],
   "source": [
    "with open(\"t173_kimmerian_male_names.txt\", \"w\") as f:\n",
    "    f.write(\"id\\tname\\n\")\n",
    "    for i, n in enumerate(male_names, start=1):\n",
    "        f.write(f\"{i}\\t{n}\\n\")"
   ]
  },
  {
   "cell_type": "code",
   "execution_count": null,
   "metadata": {},
   "outputs": [],
   "source": []
  }
 ],
 "metadata": {
  "kernelspec": {
   "display_name": "hyperborea-data",
   "language": "python",
   "name": "python3"
  },
  "language_info": {
   "codemirror_mode": {
    "name": "ipython",
    "version": 3
   },
   "file_extension": ".py",
   "mimetype": "text/x-python",
   "name": "python",
   "nbconvert_exporter": "python",
   "pygments_lexer": "ipython3",
   "version": "3.10.9"
  },
  "orig_nbformat": 4,
  "vscode": {
   "interpreter": {
    "hash": "acb019856f73b84eca86819462a39e3d7bccc0acdbb6a07dbb432495ff0ddd72"
   }
  }
 },
 "nbformat": 4,
 "nbformat_minor": 2
}
