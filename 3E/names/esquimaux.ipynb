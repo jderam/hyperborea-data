{
 "cells": [
  {
   "cell_type": "code",
   "execution_count": 1,
   "metadata": {},
   "outputs": [],
   "source": [
    "name = \"\"\"01–02 Aguta 21–22 Kakortok 41–42 Ningakpok 61–62 Shila 81–82 Tikaani\n",
    "03–04 Akiak 23–24 Karpok 43–44 Nukilik 63–64 Siku 83–84 Tonrar\n",
    "05–06 Arjalinerk 25–26 Kesuk 45–46 Olikpok 65–66 Sirmiq 85–86 Tornuaq\n",
    "07–08 Arrluk 27–28 Kinaktok 47–48 Piktaungitok 67–68 Sitiyok 87–88 Tulugaq\n",
    "09–10 Assiminik 29–30 Kinapak 49–50 Pukulria 69–70 Sos 89–90 Tulukaruk\n",
    "11–12 Aukaneck 31–32 Krernertok 51–52 Qigiq 71–72 Suka 91–92 Tungulria\n",
    "13–14 Chulyin 33–34 Kussuyok 53–54 Saghani 73–74 Taliriktug 93–94 Tuluwaq\n",
    "15–16 Cikuq 35–36 Maguyuk 55–56 Salaksartok 75–76 Taqukaq 95–96 Tuwawi\n",
    "17–18 Iluq 37–38 Maniitok 57–58 Sangilak 77–78 Tartok 97–98 Ulva\n",
    "19–20 Issumatar 39–40 Nauja 59–60 Saomik 79–80 Tiglikte 99–00 Yakone\n",
    "\"\"\""
   ]
  },
  {
   "cell_type": "code",
   "execution_count": 2,
   "metadata": {},
   "outputs": [
    {
     "data": {
      "text/plain": [
       "50"
      ]
     },
     "execution_count": 2,
     "metadata": {},
     "output_type": "execute_result"
    }
   ],
   "source": [
    "names = [x for x in name.split() if \"–\" not in x]\n",
    "names.sort()\n",
    "len(names)"
   ]
  },
  {
   "cell_type": "code",
   "execution_count": 3,
   "metadata": {},
   "outputs": [
    {
     "data": {
      "text/plain": [
       "['Aguta',\n",
       " 'Akiak',\n",
       " 'Arjalinerk',\n",
       " 'Arrluk',\n",
       " 'Assiminik',\n",
       " 'Aukaneck',\n",
       " 'Chulyin',\n",
       " 'Cikuq',\n",
       " 'Iluq',\n",
       " 'Issumatar',\n",
       " 'Kakortok',\n",
       " 'Karpok',\n",
       " 'Kesuk',\n",
       " 'Kinaktok',\n",
       " 'Kinapak',\n",
       " 'Krernertok',\n",
       " 'Kussuyok',\n",
       " 'Maguyuk',\n",
       " 'Maniitok',\n",
       " 'Nauja',\n",
       " 'Ningakpok',\n",
       " 'Nukilik',\n",
       " 'Olikpok',\n",
       " 'Piktaungitok',\n",
       " 'Pukulria',\n",
       " 'Qigiq',\n",
       " 'Saghani',\n",
       " 'Salaksartok',\n",
       " 'Sangilak',\n",
       " 'Saomik',\n",
       " 'Shila',\n",
       " 'Siku',\n",
       " 'Sirmiq',\n",
       " 'Sitiyok',\n",
       " 'Sos',\n",
       " 'Suka',\n",
       " 'Taliriktug',\n",
       " 'Taqukaq',\n",
       " 'Tartok',\n",
       " 'Tiglikte',\n",
       " 'Tikaani',\n",
       " 'Tonrar',\n",
       " 'Tornuaq',\n",
       " 'Tulugaq',\n",
       " 'Tulukaruk',\n",
       " 'Tuluwaq',\n",
       " 'Tungulria',\n",
       " 'Tuwawi',\n",
       " 'Ulva',\n",
       " 'Yakone']"
      ]
     },
     "execution_count": 3,
     "metadata": {},
     "output_type": "execute_result"
    }
   ],
   "source": [
    "names"
   ]
  },
  {
   "cell_type": "code",
   "execution_count": 4,
   "metadata": {},
   "outputs": [],
   "source": [
    "with open(\"t162_esquimaux_names.txt\", \"w\") as f:\n",
    "    f.write(\"id\\tname\\n\")\n",
    "    for i, n in enumerate(names, start=1):\n",
    "        f.write(f\"{i}\\t{n}\\n\")"
   ]
  },
  {
   "cell_type": "code",
   "execution_count": null,
   "metadata": {},
   "outputs": [],
   "source": []
  }
 ],
 "metadata": {
  "kernelspec": {
   "display_name": "hyperborea-data",
   "language": "python",
   "name": "python3"
  },
  "language_info": {
   "codemirror_mode": {
    "name": "ipython",
    "version": 3
   },
   "file_extension": ".py",
   "mimetype": "text/x-python",
   "name": "python",
   "nbconvert_exporter": "python",
   "pygments_lexer": "ipython3",
   "version": "3.10.9"
  },
  "orig_nbformat": 4,
  "vscode": {
   "interpreter": {
    "hash": "acb019856f73b84eca86819462a39e3d7bccc0acdbb6a07dbb432495ff0ddd72"
   }
  }
 },
 "nbformat": 4,
 "nbformat_minor": 2
}
