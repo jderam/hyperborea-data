{
 "cells": [
  {
   "cell_type": "code",
   "execution_count": 1,
   "metadata": {},
   "outputs": [],
   "source": [
    "female = \"\"\"01–04 Audofleda 21–24 Berthegund 41–44 Fredegunde 61–64 Lanthechilde 81–84 Marcovefa\n",
    "05–08 Audovera 25–28 Chlodosind 45–48 Galswinth 65–68 Leubast 85–88 Radegund\n",
    "09–12 Austrechild 29–32 Chlothsinda 49–52 Goiswinth 69–72 Leubovera 89–92 Rigunth\n",
    "13–16 Beretrude 33–36 Clotild 53–56 Ingitrude 73–76 Magnatrude 93–96 Ultrogotha\n",
    "17–20 Berthefled 37–40 Faileuba 57–60 Ingunde 77–80 Marcatrude 97–00 Vuldretrada\n",
    "\"\"\"\n",
    "\n",
    "male = \"\"\"01–02 Ageric 21–22 Badegisel 41–42 Eberulf 61–62 Huneric 81–82 Rathar\n",
    "03–04 Alaric 23–24 Berthar 43–44 Ebregisel 63–64 Imnachar 83–84 Reccared\n",
    "05–06 Amalaric 25–26 Bertram 45–46 Euric 65–66 Ingomer 85–86 Sichar\n",
    "07–08 Andica 27–28 Bisinus 47–48 Garivald 67–68 Leudast 87–88 Sigeric\n",
    "09–10 Ansovald 29–30 Charibert 49–50 Godomar 69–70 Leuvigild 89–90 Sigibert\n",
    "11–12 Arnegisel 31–32 Childebert 51–52 Gunderic 71–72 Lothar 91–92 Sunnegisil\n",
    "13–14 Athanaric 33–34 Childeric 53–54 Gunthar 73–74 Magneric 93–94 Theudebald\n",
    "15–16 Audovald 35–36 Chlodomer 55–56 Guntram 75–76 Merovech 95–96 Theuderic\n",
    "17–18 Austregisel 37–38 Clovis 57–58 Hermangild 77–78 Munderic 97–98 Vulfoliac\n",
    "19–20 Authari 39–40 Dagobert 59–60 Herminafrid 79–80 Ragnachar 99–00 Willichar\n",
    "\"\"\""
   ]
  },
  {
   "cell_type": "code",
   "execution_count": 2,
   "metadata": {},
   "outputs": [
    {
     "data": {
      "text/plain": [
       "25"
      ]
     },
     "execution_count": 2,
     "metadata": {},
     "output_type": "execute_result"
    }
   ],
   "source": [
    "female_names = [x for x in female.split() if \"–\" not in x]\n",
    "female_names.sort()\n",
    "len(female_names)"
   ]
  },
  {
   "cell_type": "code",
   "execution_count": 3,
   "metadata": {},
   "outputs": [
    {
     "data": {
      "text/plain": [
       "['Audofleda',\n",
       " 'Audovera',\n",
       " 'Austrechild',\n",
       " 'Beretrude',\n",
       " 'Berthefled',\n",
       " 'Berthegund',\n",
       " 'Chlodosind',\n",
       " 'Chlothsinda',\n",
       " 'Clotild',\n",
       " 'Faileuba',\n",
       " 'Fredegunde',\n",
       " 'Galswinth',\n",
       " 'Goiswinth',\n",
       " 'Ingitrude',\n",
       " 'Ingunde',\n",
       " 'Lanthechilde',\n",
       " 'Leubast',\n",
       " 'Leubovera',\n",
       " 'Magnatrude',\n",
       " 'Marcatrude',\n",
       " 'Marcovefa',\n",
       " 'Radegund',\n",
       " 'Rigunth',\n",
       " 'Ultrogotha',\n",
       " 'Vuldretrada']"
      ]
     },
     "execution_count": 3,
     "metadata": {},
     "output_type": "execute_result"
    }
   ],
   "source": [
    "female_names"
   ]
  },
  {
   "cell_type": "code",
   "execution_count": 4,
   "metadata": {},
   "outputs": [],
   "source": [
    "with open(\"t160_carolingian_frankish_female_names.txt\", \"w\") as f:\n",
    "    f.write(\"id\\tname\\n\")\n",
    "    for i, n in enumerate(female_names, start=1):\n",
    "        f.write(f\"{i}\\t{n}\\n\")"
   ]
  },
  {
   "cell_type": "code",
   "execution_count": 5,
   "metadata": {},
   "outputs": [
    {
     "data": {
      "text/plain": [
       "50"
      ]
     },
     "execution_count": 5,
     "metadata": {},
     "output_type": "execute_result"
    }
   ],
   "source": [
    "male_names = [x for x in male.split() if \"–\" not in x]\n",
    "male_names.sort()\n",
    "len(male_names)"
   ]
  },
  {
   "cell_type": "code",
   "execution_count": 6,
   "metadata": {},
   "outputs": [
    {
     "data": {
      "text/plain": [
       "['Ageric',\n",
       " 'Alaric',\n",
       " 'Amalaric',\n",
       " 'Andica',\n",
       " 'Ansovald',\n",
       " 'Arnegisel',\n",
       " 'Athanaric',\n",
       " 'Audovald',\n",
       " 'Austregisel',\n",
       " 'Authari',\n",
       " 'Badegisel',\n",
       " 'Berthar',\n",
       " 'Bertram',\n",
       " 'Bisinus',\n",
       " 'Charibert',\n",
       " 'Childebert',\n",
       " 'Childeric',\n",
       " 'Chlodomer',\n",
       " 'Clovis',\n",
       " 'Dagobert',\n",
       " 'Eberulf',\n",
       " 'Ebregisel',\n",
       " 'Euric',\n",
       " 'Garivald',\n",
       " 'Godomar',\n",
       " 'Gunderic',\n",
       " 'Gunthar',\n",
       " 'Guntram',\n",
       " 'Hermangild',\n",
       " 'Herminafrid',\n",
       " 'Huneric',\n",
       " 'Imnachar',\n",
       " 'Ingomer',\n",
       " 'Leudast',\n",
       " 'Leuvigild',\n",
       " 'Lothar',\n",
       " 'Magneric',\n",
       " 'Merovech',\n",
       " 'Munderic',\n",
       " 'Ragnachar',\n",
       " 'Rathar',\n",
       " 'Reccared',\n",
       " 'Sichar',\n",
       " 'Sigeric',\n",
       " 'Sigibert',\n",
       " 'Sunnegisil',\n",
       " 'Theudebald',\n",
       " 'Theuderic',\n",
       " 'Vulfoliac',\n",
       " 'Willichar']"
      ]
     },
     "execution_count": 6,
     "metadata": {},
     "output_type": "execute_result"
    }
   ],
   "source": [
    "male_names"
   ]
  },
  {
   "cell_type": "code",
   "execution_count": 7,
   "metadata": {},
   "outputs": [],
   "source": [
    "with open(\"t161_carolingian_frankish_male_names.txt\", \"w\") as f:\n",
    "    f.write(\"id\\tname\\n\")\n",
    "    for i, n in enumerate(male_names, start=1):\n",
    "        f.write(f\"{i}\\t{n}\\n\")"
   ]
  },
  {
   "cell_type": "code",
   "execution_count": null,
   "metadata": {},
   "outputs": [],
   "source": []
  }
 ],
 "metadata": {
  "kernelspec": {
   "display_name": "hyperborea-data",
   "language": "python",
   "name": "python3"
  },
  "language_info": {
   "codemirror_mode": {
    "name": "ipython",
    "version": 3
   },
   "file_extension": ".py",
   "mimetype": "text/x-python",
   "name": "python",
   "nbconvert_exporter": "python",
   "pygments_lexer": "ipython3",
   "version": "3.10.9"
  },
  "orig_nbformat": 4,
  "vscode": {
   "interpreter": {
    "hash": "acb019856f73b84eca86819462a39e3d7bccc0acdbb6a07dbb432495ff0ddd72"
   }
  }
 },
 "nbformat": 4,
 "nbformat_minor": 2
}
