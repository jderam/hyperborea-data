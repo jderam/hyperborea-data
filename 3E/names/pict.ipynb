{
 "cells": [
  {
   "cell_type": "code",
   "execution_count": 1,
   "metadata": {},
   "outputs": [],
   "source": [
    "female = \"\"\"1 Barita 11 Huctia\n",
    "2 Bodicca 12 Liggagh\n",
    "3 Cartimandua 13 Luann\n",
    "4 Cobblaith 14 Luncetta\n",
    "5 Cunoarda 15 Nectudagh\n",
    "6 Cunovinda 16 Scáthagh\n",
    "7 Drusstic 17 Tea\n",
    "8 Elpia 18 Ventissa\n",
    "9 Eithni 19 Verctissa\n",
    "10 Eurgeinn 20 Verica\n",
    "\"\"\"\n",
    "\n",
    "male = \"\"\"1 Argentocoxos 11 Cintusmos\n",
    "2 Arviragos 12 Cogidubnos\n",
    "3 Bodiccios 13 Commios\n",
    "4 Brigomaglos 14 Crotos\n",
    "5 Cacumattos 15 Cunittos\n",
    "6 Calgacos 16 Cunobarros\n",
    "7 Caratacos 17 Cunobelinos\n",
    "8 Catavignos 18 Cunopectos\n",
    "9 Ceanatis 19 Cunovindos\n",
    "10 Cingetorix 20 Dubnovellaunos\n",
    "1 Enestinos 11 Saccios\n",
    "2 Ivomagos 12 Segovax\n",
    "3 Litugenos 13 Senorix\n",
    "4 Lugotorix 14 Setibogios\n",
    "5 Mandubracios 15 Tancorix\n",
    "6 Matugenos 16 Taximagulos\n",
    "7 Morirex 17 Togodumnos\n",
    "8 Motios 18 Uepogenos\n",
    "9 Nectovelios 19 Venutios\n",
    "10 Rianorix 20 Vindex\n",
    "\"\"\""
   ]
  },
  {
   "cell_type": "code",
   "execution_count": 2,
   "metadata": {},
   "outputs": [
    {
     "data": {
      "text/plain": [
       "20"
      ]
     },
     "execution_count": 2,
     "metadata": {},
     "output_type": "execute_result"
    }
   ],
   "source": [
    "female_names = []\n",
    "for n in female.split():\n",
    "    try:\n",
    "        int(n)\n",
    "    except:\n",
    "        female_names.append(n)\n",
    "female_names.sort()\n",
    "len(female_names)"
   ]
  },
  {
   "cell_type": "code",
   "execution_count": 3,
   "metadata": {},
   "outputs": [
    {
     "data": {
      "text/plain": [
       "['Barita',\n",
       " 'Bodicca',\n",
       " 'Cartimandua',\n",
       " 'Cobblaith',\n",
       " 'Cunoarda',\n",
       " 'Cunovinda',\n",
       " 'Drusstic',\n",
       " 'Eithni',\n",
       " 'Elpia',\n",
       " 'Eurgeinn',\n",
       " 'Huctia',\n",
       " 'Liggagh',\n",
       " 'Luann',\n",
       " 'Luncetta',\n",
       " 'Nectudagh',\n",
       " 'Scáthagh',\n",
       " 'Tea',\n",
       " 'Ventissa',\n",
       " 'Verctissa',\n",
       " 'Verica']"
      ]
     },
     "execution_count": 3,
     "metadata": {},
     "output_type": "execute_result"
    }
   ],
   "source": [
    "female_names"
   ]
  },
  {
   "cell_type": "code",
   "execution_count": 4,
   "metadata": {},
   "outputs": [],
   "source": [
    "with open(\"t185_pictish_female_names.txt\", \"w\") as f:\n",
    "    f.write(\"id\\tname\\n\")\n",
    "    for i, n in enumerate(female_names, start=1):\n",
    "        f.write(f\"{i}\\t{n}\\n\")"
   ]
  },
  {
   "cell_type": "code",
   "execution_count": 5,
   "metadata": {},
   "outputs": [
    {
     "data": {
      "text/plain": [
       "40"
      ]
     },
     "execution_count": 5,
     "metadata": {},
     "output_type": "execute_result"
    }
   ],
   "source": [
    "male_names = []\n",
    "for n in male.split():\n",
    "    try:\n",
    "        int(n)\n",
    "    except:\n",
    "        male_names.append(n)\n",
    "male_names.sort()\n",
    "len(male_names)"
   ]
  },
  {
   "cell_type": "code",
   "execution_count": 6,
   "metadata": {},
   "outputs": [
    {
     "data": {
      "text/plain": [
       "['Argentocoxos',\n",
       " 'Arviragos',\n",
       " 'Bodiccios',\n",
       " 'Brigomaglos',\n",
       " 'Cacumattos',\n",
       " 'Calgacos',\n",
       " 'Caratacos',\n",
       " 'Catavignos',\n",
       " 'Ceanatis',\n",
       " 'Cingetorix',\n",
       " 'Cintusmos',\n",
       " 'Cogidubnos',\n",
       " 'Commios',\n",
       " 'Crotos',\n",
       " 'Cunittos',\n",
       " 'Cunobarros',\n",
       " 'Cunobelinos',\n",
       " 'Cunopectos',\n",
       " 'Cunovindos',\n",
       " 'Dubnovellaunos',\n",
       " 'Enestinos',\n",
       " 'Ivomagos',\n",
       " 'Litugenos',\n",
       " 'Lugotorix',\n",
       " 'Mandubracios',\n",
       " 'Matugenos',\n",
       " 'Morirex',\n",
       " 'Motios',\n",
       " 'Nectovelios',\n",
       " 'Rianorix',\n",
       " 'Saccios',\n",
       " 'Segovax',\n",
       " 'Senorix',\n",
       " 'Setibogios',\n",
       " 'Tancorix',\n",
       " 'Taximagulos',\n",
       " 'Togodumnos',\n",
       " 'Uepogenos',\n",
       " 'Venutios',\n",
       " 'Vindex']"
      ]
     },
     "execution_count": 6,
     "metadata": {},
     "output_type": "execute_result"
    }
   ],
   "source": [
    "male_names"
   ]
  },
  {
   "cell_type": "code",
   "execution_count": 7,
   "metadata": {},
   "outputs": [],
   "source": [
    "with open(\"t186_pictish_male_names.txt\", \"w\") as f:\n",
    "    f.write(\"id\\tname\\n\")\n",
    "    for i, n in enumerate(male_names, start=1):\n",
    "        f.write(f\"{i}\\t{n}\\n\")"
   ]
  },
  {
   "cell_type": "code",
   "execution_count": null,
   "metadata": {},
   "outputs": [],
   "source": []
  }
 ],
 "metadata": {
  "kernelspec": {
   "display_name": "hyperborea-data",
   "language": "python",
   "name": "python3"
  },
  "language_info": {
   "codemirror_mode": {
    "name": "ipython",
    "version": 3
   },
   "file_extension": ".py",
   "mimetype": "text/x-python",
   "name": "python",
   "nbconvert_exporter": "python",
   "pygments_lexer": "ipython3",
   "version": "3.10.9 (main, Dec 24 2022, 11:14:09) [GCC 11.3.0]"
  },
  "orig_nbformat": 4,
  "vscode": {
   "interpreter": {
    "hash": "acb019856f73b84eca86819462a39e3d7bccc0acdbb6a07dbb432495ff0ddd72"
   }
  }
 },
 "nbformat": 4,
 "nbformat_minor": 2
}
