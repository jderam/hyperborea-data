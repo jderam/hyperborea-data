{
 "cells": [
  {
   "cell_type": "code",
   "execution_count": 6,
   "metadata": {},
   "outputs": [],
   "source": [
    "female = \"\"\"01–04 Aisha\n",
    "05–08 Amena\n",
    "09–12 Baya\n",
    "13–16 Hadada\n",
    "17–20 Illi\n",
    "21–24 Kahina\n",
    "25–28 Kella\n",
    "29–32 Lella\n",
    "33–36 Lemta\n",
    "37–40 Lundja\n",
    "41–44 Markunda\n",
    "45–48 Muli\n",
    "49–52 Rayshabu\n",
    "53–56 Safiyya\n",
    "57–60 Sekkura\n",
    "61–64 Tanelhir\n",
    "65–68 Tanloubouh\n",
    "69–72 Thula\n",
    "73–76 Tintfsut\n",
    "77–80 Tioueyin\n",
    "81–84 Tuftifawt\n",
    "85–88 Tufent\n",
    "89–92 Wertenezzu\n",
    "93–96 Zegiga\n",
    "97–00 Zahara\n",
    "\"\"\"\n",
    "\n",
    "male = \"\"\"1 Ahmedu 11 Dassin 21 Munatas\n",
    "2 Amergiw 12 Ehenkouen 22 Sidi\n",
    "3 Antal 13 Ehenu 23 Sufian\n",
    "4 Asmil 14 Idir 24 Tariq\n",
    "5 Azawakh 15 Ilou 25 Udad\n",
    "6 Aziouel 16 Izil 26 Wagguten\n",
    "7 Baragsen 17 Khyar 27 Yabdas\n",
    "8 Beddis 18 Lamine 28 Yuba\n",
    "9 Bekketa 19 Masgaba 29 Yugerten\n",
    "10 Brahim 20 Massena 30 Ziri\n",
    "\"\"\""
   ]
  },
  {
   "cell_type": "code",
   "execution_count": 2,
   "metadata": {},
   "outputs": [
    {
     "data": {
      "text/plain": [
       "25"
      ]
     },
     "execution_count": 2,
     "metadata": {},
     "output_type": "execute_result"
    }
   ],
   "source": [
    "female_names = [x for x in female.split() if \"–\" not in x]\n",
    "# female_names.sort()\n",
    "len(female_names)"
   ]
  },
  {
   "cell_type": "code",
   "execution_count": 3,
   "metadata": {},
   "outputs": [
    {
     "data": {
      "text/plain": [
       "['Aisha',\n",
       " 'Amena',\n",
       " 'Baya',\n",
       " 'Hadada',\n",
       " 'Illi',\n",
       " 'Kahina',\n",
       " 'Kella',\n",
       " 'Lella',\n",
       " 'Lemta',\n",
       " 'Lundja',\n",
       " 'Markunda',\n",
       " 'Muli',\n",
       " 'Rayshabu',\n",
       " 'Safiyya',\n",
       " 'Sekkura',\n",
       " 'Tanelhir',\n",
       " 'Tanloubouh',\n",
       " 'Thula',\n",
       " 'Tintfsut',\n",
       " 'Tioueyin',\n",
       " 'Tuftifawt',\n",
       " 'Tufent',\n",
       " 'Wertenezzu',\n",
       " 'Zegiga',\n",
       " 'Zahara']"
      ]
     },
     "execution_count": 3,
     "metadata": {},
     "output_type": "execute_result"
    }
   ],
   "source": [
    "female_names"
   ]
  },
  {
   "cell_type": "code",
   "execution_count": 4,
   "metadata": {},
   "outputs": [],
   "source": [
    "with open(\"t182_moorish_female_names.txt\", \"w\") as f:\n",
    "    f.write(\"id\\tname\\n\")\n",
    "    for i, n in enumerate(female_names, start=1):\n",
    "        f.write(f\"{i}\\t{n}\\n\")"
   ]
  },
  {
   "cell_type": "code",
   "execution_count": 7,
   "metadata": {},
   "outputs": [
    {
     "data": {
      "text/plain": [
       "30"
      ]
     },
     "execution_count": 7,
     "metadata": {},
     "output_type": "execute_result"
    }
   ],
   "source": [
    "male_names = []\n",
    "for n in male.split():\n",
    "    try:\n",
    "        int(n)\n",
    "    except:\n",
    "        male_names.append(n)\n",
    "male_names.sort()\n",
    "len(male_names)"
   ]
  },
  {
   "cell_type": "code",
   "execution_count": 8,
   "metadata": {},
   "outputs": [
    {
     "data": {
      "text/plain": [
       "['Ahmedu',\n",
       " 'Amergiw',\n",
       " 'Antal',\n",
       " 'Asmil',\n",
       " 'Azawakh',\n",
       " 'Aziouel',\n",
       " 'Baragsen',\n",
       " 'Beddis',\n",
       " 'Bekketa',\n",
       " 'Brahim',\n",
       " 'Dassin',\n",
       " 'Ehenkouen',\n",
       " 'Ehenu',\n",
       " 'Idir',\n",
       " 'Ilou',\n",
       " 'Izil',\n",
       " 'Khyar',\n",
       " 'Lamine',\n",
       " 'Masgaba',\n",
       " 'Massena',\n",
       " 'Munatas',\n",
       " 'Sidi',\n",
       " 'Sufian',\n",
       " 'Tariq',\n",
       " 'Udad',\n",
       " 'Wagguten',\n",
       " 'Yabdas',\n",
       " 'Yuba',\n",
       " 'Yugerten',\n",
       " 'Ziri']"
      ]
     },
     "execution_count": 8,
     "metadata": {},
     "output_type": "execute_result"
    }
   ],
   "source": [
    "male_names"
   ]
  },
  {
   "cell_type": "code",
   "execution_count": 9,
   "metadata": {},
   "outputs": [],
   "source": [
    "with open(\"t183_moorish_male_names.txt\", \"w\") as f:\n",
    "    f.write(\"id\\tname\\n\")\n",
    "    for i, n in enumerate(male_names, start=1):\n",
    "        f.write(f\"{i}\\t{n}\\n\")"
   ]
  },
  {
   "cell_type": "code",
   "execution_count": null,
   "metadata": {},
   "outputs": [],
   "source": []
  }
 ],
 "metadata": {
  "kernelspec": {
   "display_name": "hyperborea-data",
   "language": "python",
   "name": "python3"
  },
  "language_info": {
   "codemirror_mode": {
    "name": "ipython",
    "version": 3
   },
   "file_extension": ".py",
   "mimetype": "text/x-python",
   "name": "python",
   "nbconvert_exporter": "python",
   "pygments_lexer": "ipython3",
   "version": "3.10.9"
  },
  "orig_nbformat": 4,
  "vscode": {
   "interpreter": {
    "hash": "acb019856f73b84eca86819462a39e3d7bccc0acdbb6a07dbb432495ff0ddd72"
   }
  }
 },
 "nbformat": 4,
 "nbformat_minor": 2
}
