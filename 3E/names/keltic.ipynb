{
 "cells": [
  {
   "cell_type": "code",
   "execution_count": 1,
   "metadata": {},
   "outputs": [],
   "source": [
    "female = \"\"\"01–02 Áine 21–22 Echna 41–42 Luiseach 61–62 Mùirne 81–82 Saraid\n",
    "03–04 Ana 23–24 Eithne 43–44 Malamhìn 63–64 Neacht 83–84 Scoth\n",
    "05–06 Banbha 25–26 Étaín 45–46 Meadhbh 65–66 Neasa 85–86 Searc\n",
    "07–08 Brianag 27–28 Fionúir 47–48 Meallá 67–68 Niamh 87–88 Sidheag\n",
    "09–10 Bríghid 29–30 Geiléis 49–50 Mòr 69–70 Órlaith 89–90 Síomha\n",
    "11–12 Ceana 31–32 Gràinne 51–52 Mòrag 71–72 Osnait 91–92 Slàinte\n",
    "13–14 Ceara 33–34 Laoise 53–54 Mordag 73–74 Ríona 93–94 Sorcha\n",
    "15–16 Ciar 35–36 Líadan 55–56 Muireall 75–76 Róinseach 95–96 Treasa\n",
    "17–18 Dáirine 37–38 Liamhain 57–58 Muireann 77–78 Róisín 97–98 Tuathla\n",
    "19–20 Ealadha 39–40 Líobhan 59–60 Muirín 79–80 Ròs 99–00 Úna\n",
    "\"\"\"\n",
    "\n",
    "male = \"\"\"01–02 Ailill 21–22 Camran 41–42 Curnán 61–62 Lachlann 81–82 Orthanach\n",
    "03–04 Aodh 23–24 Cassair 43–44 Deaglán 63–64 Lasair 83–84 Ríordán\n",
    "05–06 Artagan 25–26 Cathal 45–46 Donnan 65–66 Lonán 85–86 Rònan\n",
    "07–08 Artair 27–28 Cian 47–48 Dubhagan 67–68 Maon 87–88 Ross\n",
    "09–10 Bardán 29–30 Cillian 49–50 Dùghall 69–70 Mochta 89–90 Ruarc\n",
    "11–12 Bearach 31–32 Conall 51–52 Finnean 71–72 Morann 91–92 Scannlán\n",
    "13–14 Bran 33–34 Conan 53–54 Fionn 73–74 Muireach 93–94 Seanán\n",
    "15–16 Brion 35–36 Conn 55–56 Flann 75–76 Niall 95–96 Sionn\n",
    "17–18 Brocc 37–38 Corc 57–58 Gòrdan 77–78 Ógán 97–98 Taran\n",
    "19–20 Brógán 39–40 Cormac 59–60 Gormal 79–80 Onchú 99–00 Torcán\n",
    "\"\"\""
   ]
  },
  {
   "cell_type": "code",
   "execution_count": 2,
   "metadata": {},
   "outputs": [
    {
     "data": {
      "text/plain": [
       "50"
      ]
     },
     "execution_count": 2,
     "metadata": {},
     "output_type": "execute_result"
    }
   ],
   "source": [
    "female_names = [x for x in female.split() if \"–\" not in x]\n",
    "female_names.sort()\n",
    "len(female_names)"
   ]
  },
  {
   "cell_type": "code",
   "execution_count": 3,
   "metadata": {},
   "outputs": [
    {
     "data": {
      "text/plain": [
       "['Ana',\n",
       " 'Banbha',\n",
       " 'Brianag',\n",
       " 'Bríghid',\n",
       " 'Ceana',\n",
       " 'Ceara',\n",
       " 'Ciar',\n",
       " 'Dáirine',\n",
       " 'Ealadha',\n",
       " 'Echna',\n",
       " 'Eithne',\n",
       " 'Fionúir',\n",
       " 'Geiléis',\n",
       " 'Gràinne',\n",
       " 'Laoise',\n",
       " 'Liamhain',\n",
       " 'Luiseach',\n",
       " 'Líadan',\n",
       " 'Líobhan',\n",
       " 'Malamhìn',\n",
       " 'Meadhbh',\n",
       " 'Meallá',\n",
       " 'Mordag',\n",
       " 'Muireall',\n",
       " 'Muireann',\n",
       " 'Muirín',\n",
       " 'Mòr',\n",
       " 'Mòrag',\n",
       " 'Mùirne',\n",
       " 'Neacht',\n",
       " 'Neasa',\n",
       " 'Niamh',\n",
       " 'Osnait',\n",
       " 'Ríona',\n",
       " 'Ròs',\n",
       " 'Róinseach',\n",
       " 'Róisín',\n",
       " 'Saraid',\n",
       " 'Scoth',\n",
       " 'Searc',\n",
       " 'Sidheag',\n",
       " 'Slàinte',\n",
       " 'Sorcha',\n",
       " 'Síomha',\n",
       " 'Treasa',\n",
       " 'Tuathla',\n",
       " 'Áine',\n",
       " 'Étaín',\n",
       " 'Órlaith',\n",
       " 'Úna']"
      ]
     },
     "execution_count": 3,
     "metadata": {},
     "output_type": "execute_result"
    }
   ],
   "source": [
    "female_names"
   ]
  },
  {
   "cell_type": "code",
   "execution_count": 4,
   "metadata": {},
   "outputs": [],
   "source": [
    "female_names = [\n",
    "    'Áine',\n",
    "    'Ana',\n",
    " 'Banbha',\n",
    " 'Brianag',\n",
    " 'Bríghid',\n",
    " 'Ceana',\n",
    " 'Ceara',\n",
    " 'Ciar',\n",
    " 'Dáirine',\n",
    " 'Ealadha',\n",
    " 'Echna',\n",
    " 'Eithne',\n",
    " 'Étaín',\n",
    " 'Fionúir',\n",
    " 'Geiléis',\n",
    " 'Gràinne',\n",
    " 'Laoise',\n",
    " 'Liamhain',\n",
    " 'Luiseach',\n",
    " 'Líadan',\n",
    " 'Líobhan',\n",
    " 'Malamhìn',\n",
    " 'Meadhbh',\n",
    " 'Meallá',\n",
    " 'Mordag',\n",
    " 'Muireall',\n",
    " 'Muireann',\n",
    " 'Muirín',\n",
    " 'Mòr',\n",
    " 'Mòrag',\n",
    " 'Mùirne',\n",
    " 'Neacht',\n",
    " 'Neasa',\n",
    " 'Niamh',\n",
    " 'Órlaith',\n",
    " 'Osnait',\n",
    " 'Ríona',\n",
    " 'Ròs',\n",
    " 'Róinseach',\n",
    " 'Róisín',\n",
    " 'Saraid',\n",
    " 'Scoth',\n",
    " 'Searc',\n",
    " 'Sidheag',\n",
    " 'Slàinte',\n",
    " 'Sorcha',\n",
    " 'Síomha',\n",
    " 'Treasa',\n",
    " 'Tuathla',\n",
    " 'Úna',\n",
    "]"
   ]
  },
  {
   "cell_type": "code",
   "execution_count": 5,
   "metadata": {},
   "outputs": [],
   "source": [
    "with open(\"t170_keltic_female_names.txt\", \"w\") as f:\n",
    "    f.write(\"id\\tname\\n\")\n",
    "    for i, n in enumerate(female_names, start=1):\n",
    "        f.write(f\"{i}\\t{n}\\n\")"
   ]
  },
  {
   "cell_type": "code",
   "execution_count": 6,
   "metadata": {},
   "outputs": [
    {
     "data": {
      "text/plain": [
       "50"
      ]
     },
     "execution_count": 6,
     "metadata": {},
     "output_type": "execute_result"
    }
   ],
   "source": [
    "male_names = [x for x in male.split() if \"–\" not in x]\n",
    "male_names.sort()\n",
    "len(male_names)"
   ]
  },
  {
   "cell_type": "code",
   "execution_count": 7,
   "metadata": {},
   "outputs": [
    {
     "data": {
      "text/plain": [
       "['Ailill',\n",
       " 'Aodh',\n",
       " 'Artagan',\n",
       " 'Artair',\n",
       " 'Bardán',\n",
       " 'Bearach',\n",
       " 'Bran',\n",
       " 'Brion',\n",
       " 'Brocc',\n",
       " 'Brógán',\n",
       " 'Camran',\n",
       " 'Cassair',\n",
       " 'Cathal',\n",
       " 'Cian',\n",
       " 'Cillian',\n",
       " 'Conall',\n",
       " 'Conan',\n",
       " 'Conn',\n",
       " 'Corc',\n",
       " 'Cormac',\n",
       " 'Curnán',\n",
       " 'Deaglán',\n",
       " 'Donnan',\n",
       " 'Dubhagan',\n",
       " 'Dùghall',\n",
       " 'Finnean',\n",
       " 'Fionn',\n",
       " 'Flann',\n",
       " 'Gormal',\n",
       " 'Gòrdan',\n",
       " 'Lachlann',\n",
       " 'Lasair',\n",
       " 'Lonán',\n",
       " 'Maon',\n",
       " 'Mochta',\n",
       " 'Morann',\n",
       " 'Muireach',\n",
       " 'Niall',\n",
       " 'Onchú',\n",
       " 'Orthanach',\n",
       " 'Ross',\n",
       " 'Ruarc',\n",
       " 'Ríordán',\n",
       " 'Rònan',\n",
       " 'Scannlán',\n",
       " 'Seanán',\n",
       " 'Sionn',\n",
       " 'Taran',\n",
       " 'Torcán',\n",
       " 'Ógán']"
      ]
     },
     "execution_count": 7,
     "metadata": {},
     "output_type": "execute_result"
    }
   ],
   "source": [
    "male_names"
   ]
  },
  {
   "cell_type": "code",
   "execution_count": 8,
   "metadata": {},
   "outputs": [],
   "source": [
    "male_names = [\n",
    "'Ailill',\n",
    " 'Aodh',\n",
    " 'Artagan',\n",
    " 'Artair',\n",
    " 'Bardán',\n",
    " 'Bearach',\n",
    " 'Bran',\n",
    " 'Brion',\n",
    " 'Brocc',\n",
    " 'Brógán',\n",
    " 'Camran',\n",
    " 'Cassair',\n",
    " 'Cathal',\n",
    " 'Cian',\n",
    " 'Cillian',\n",
    " 'Conall',\n",
    " 'Conan',\n",
    " 'Conn',\n",
    " 'Corc',\n",
    " 'Cormac',\n",
    " 'Curnán',\n",
    " 'Deaglán',\n",
    " 'Donnan',\n",
    " 'Dubhagan',\n",
    " 'Dùghall',\n",
    " 'Finnean',\n",
    " 'Fionn',\n",
    " 'Flann',\n",
    " 'Gormal',\n",
    " 'Gòrdan',\n",
    " 'Lachlann',\n",
    " 'Lasair',\n",
    " 'Lonán',\n",
    " 'Maon',\n",
    " 'Mochta',\n",
    " 'Morann',\n",
    " 'Muireach',\n",
    " 'Niall',\n",
    " 'Ógán',\n",
    " 'Onchú',\n",
    " 'Orthanach',\n",
    " 'Ross',\n",
    " 'Ruarc',\n",
    " 'Ríordán',\n",
    " 'Rònan',\n",
    " 'Scannlán',\n",
    " 'Seanán',\n",
    " 'Sionn',\n",
    " 'Taran',\n",
    " 'Torcán',\n",
    " ]"
   ]
  },
  {
   "cell_type": "code",
   "execution_count": 9,
   "metadata": {},
   "outputs": [],
   "source": [
    "with open(\"t171_keltic_male_names.txt\", \"w\") as f:\n",
    "    f.write(\"id\\tname\\n\")\n",
    "    for i, n in enumerate(male_names, start=1):\n",
    "        f.write(f\"{i}\\t{n}\\n\")"
   ]
  },
  {
   "cell_type": "code",
   "execution_count": null,
   "metadata": {},
   "outputs": [],
   "source": []
  }
 ],
 "metadata": {
  "kernelspec": {
   "display_name": "hyperborea-data",
   "language": "python",
   "name": "python3"
  },
  "language_info": {
   "codemirror_mode": {
    "name": "ipython",
    "version": 3
   },
   "file_extension": ".py",
   "mimetype": "text/x-python",
   "name": "python",
   "nbconvert_exporter": "python",
   "pygments_lexer": "ipython3",
   "version": "3.10.9"
  },
  "orig_nbformat": 4,
  "vscode": {
   "interpreter": {
    "hash": "acb019856f73b84eca86819462a39e3d7bccc0acdbb6a07dbb432495ff0ddd72"
   }
  }
 },
 "nbformat": 4,
 "nbformat_minor": 2
}
