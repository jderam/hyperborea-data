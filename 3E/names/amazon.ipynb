{
 "cells": [
  {
   "cell_type": "code",
   "execution_count": 1,
   "metadata": {},
   "outputs": [],
   "source": [
    "female = \"\"\"01–02 Adrasteia 21–22 Althaia 41–42 Eudoxia 61–62 Helene 81–82 Photine\n",
    "03–04 Aella 23–24 Ambrosia 43–44 Eugeneia 63–64 Hypatia 83–84 Ptolemais\n",
    "05–06 Agathe 25–26 Andromeda 45–46 Eulalia 65–66 Iphigeneia 85–86 Sophia\n",
    "07–08 Agaue 27–28 Aristomache 47–48 Eunike 67–68 Kallisto 87–88 Sostrate\n",
    "09–10 Aglaia 29–30 Artemisia 49–50 Euphemia 69–70 Kallistrate 89–90 Theodora\n",
    "11–12 Akantha 31–32 Astraia 51–52 Euphrasia 71–72 Kleio 91–92 Theodosia\n",
    "13–14 Alekto 33–34 Athanasia 53–54 Eupraxia 73–74 Lysistrate 93–94 Xanthe\n",
    "15–16 Alexandra 35–36 Athanais 55–56 Eutropia 75–76 Pelagia 95–96 Xanthippe\n",
    "17–18 Alexia 37–38 Demetria 57–58 Gaiane 77–78 Pherenike 97–98 Zenais\n",
    "19–20 Alkippe 39–40 Demostrate 59–60 Galene 79–80 Phoibe 99–00 Zosime\n",
    "\"\"\""
   ]
  },
  {
   "cell_type": "code",
   "execution_count": 2,
   "metadata": {},
   "outputs": [
    {
     "data": {
      "text/plain": [
       "50"
      ]
     },
     "execution_count": 2,
     "metadata": {},
     "output_type": "execute_result"
    }
   ],
   "source": [
    "female_names = [x for x in female.split() if \"–\" not in x]\n",
    "female_names.sort()\n",
    "len(female_names)"
   ]
  },
  {
   "cell_type": "code",
   "execution_count": 3,
   "metadata": {},
   "outputs": [
    {
     "data": {
      "text/plain": [
       "['Adrasteia',\n",
       " 'Aella',\n",
       " 'Agathe',\n",
       " 'Agaue',\n",
       " 'Aglaia',\n",
       " 'Akantha',\n",
       " 'Alekto',\n",
       " 'Alexandra',\n",
       " 'Alexia',\n",
       " 'Alkippe',\n",
       " 'Althaia',\n",
       " 'Ambrosia',\n",
       " 'Andromeda',\n",
       " 'Aristomache',\n",
       " 'Artemisia',\n",
       " 'Astraia',\n",
       " 'Athanais',\n",
       " 'Athanasia',\n",
       " 'Demetria',\n",
       " 'Demostrate',\n",
       " 'Eudoxia',\n",
       " 'Eugeneia',\n",
       " 'Eulalia',\n",
       " 'Eunike',\n",
       " 'Euphemia',\n",
       " 'Euphrasia',\n",
       " 'Eupraxia',\n",
       " 'Eutropia',\n",
       " 'Gaiane',\n",
       " 'Galene',\n",
       " 'Helene',\n",
       " 'Hypatia',\n",
       " 'Iphigeneia',\n",
       " 'Kallisto',\n",
       " 'Kallistrate',\n",
       " 'Kleio',\n",
       " 'Lysistrate',\n",
       " 'Pelagia',\n",
       " 'Pherenike',\n",
       " 'Phoibe',\n",
       " 'Photine',\n",
       " 'Ptolemais',\n",
       " 'Sophia',\n",
       " 'Sostrate',\n",
       " 'Theodora',\n",
       " 'Theodosia',\n",
       " 'Xanthe',\n",
       " 'Xanthippe',\n",
       " 'Zenais',\n",
       " 'Zosime']"
      ]
     },
     "execution_count": 3,
     "metadata": {},
     "output_type": "execute_result"
    }
   ],
   "source": [
    "female_names"
   ]
  },
  {
   "cell_type": "code",
   "execution_count": 4,
   "metadata": {},
   "outputs": [],
   "source": [
    "with open(\"t152_amazon_female_names.txt\", \"w\") as f:\n",
    "    f.write(\"id\\tname\\n\")\n",
    "    for i, n in enumerate(female_names, start=1):\n",
    "        f.write(f\"{i}\\t{n}\\n\")"
   ]
  },
  {
   "cell_type": "code",
   "execution_count": 5,
   "metadata": {},
   "outputs": [],
   "source": [
    "male = \"\"\"1 Agapios 11 Hesperos\n",
    "2 Agathon 12 Kallias\n",
    "3 Apollonios 13 Linos\n",
    "4 Argyros 14 Lysandros\n",
    "5 Bion 15 Photios\n",
    "6 Chrysanthos 16 Simonides\n",
    "7 Demetrios 17 Thales\n",
    "8 Dionysios 18 Theodosios\n",
    "9 Euphranor 19 Zenobios\n",
    "10 Galenos 20 Zenon\n",
    "\"\"\""
   ]
  },
  {
   "cell_type": "code",
   "execution_count": 7,
   "metadata": {},
   "outputs": [
    {
     "data": {
      "text/plain": [
       "20"
      ]
     },
     "execution_count": 7,
     "metadata": {},
     "output_type": "execute_result"
    }
   ],
   "source": [
    "male_names = []\n",
    "for n in male.split():\n",
    "    try:\n",
    "        int(n)\n",
    "    except:\n",
    "        male_names.append(n)\n",
    "male_names.sort()\n",
    "len(male_names)"
   ]
  },
  {
   "cell_type": "code",
   "execution_count": 8,
   "metadata": {},
   "outputs": [
    {
     "data": {
      "text/plain": [
       "['Agapios',\n",
       " 'Agathon',\n",
       " 'Apollonios',\n",
       " 'Argyros',\n",
       " 'Bion',\n",
       " 'Chrysanthos',\n",
       " 'Demetrios',\n",
       " 'Dionysios',\n",
       " 'Euphranor',\n",
       " 'Galenos',\n",
       " 'Hesperos',\n",
       " 'Kallias',\n",
       " 'Linos',\n",
       " 'Lysandros',\n",
       " 'Photios',\n",
       " 'Simonides',\n",
       " 'Thales',\n",
       " 'Theodosios',\n",
       " 'Zenobios',\n",
       " 'Zenon']"
      ]
     },
     "execution_count": 8,
     "metadata": {},
     "output_type": "execute_result"
    }
   ],
   "source": [
    "male_names"
   ]
  },
  {
   "cell_type": "code",
   "execution_count": 9,
   "metadata": {},
   "outputs": [],
   "source": [
    "with open(\"t153_amazon_male_names.txt\", \"w\") as f:\n",
    "    f.write(\"id\\tname\\n\")\n",
    "    for i, n in enumerate(male_names, start=1):\n",
    "        f.write(f\"{i}\\t{n}\\n\")"
   ]
  },
  {
   "cell_type": "code",
   "execution_count": null,
   "metadata": {},
   "outputs": [],
   "source": []
  }
 ],
 "metadata": {
  "kernelspec": {
   "display_name": "hyperborea-data",
   "language": "python",
   "name": "python3"
  },
  "language_info": {
   "codemirror_mode": {
    "name": "ipython",
    "version": 3
   },
   "file_extension": ".py",
   "mimetype": "text/x-python",
   "name": "python",
   "nbconvert_exporter": "python",
   "pygments_lexer": "ipython3",
   "version": "3.10.9"
  },
  "orig_nbformat": 4,
  "vscode": {
   "interpreter": {
    "hash": "acb019856f73b84eca86819462a39e3d7bccc0acdbb6a07dbb432495ff0ddd72"
   }
  }
 },
 "nbformat": 4,
 "nbformat_minor": 2
}
