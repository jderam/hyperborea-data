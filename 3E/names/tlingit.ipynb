{
 "cells": [
  {
   "cell_type": "code",
   "execution_count": 1,
   "metadata": {},
   "outputs": [],
   "source": [
    "name = \"\"\"1 Chʼáak 11 Góon\n",
    "2 Chʼaal 12 Kéet\n",
    "3 Cháatl 13 Kóon\n",
    "4 Ch’eet 14 Kʼóox\n",
    "5 Chéx̱ʼi 15 L’ook\n",
    "6 Dís 16 Sʼáx\n",
    "7 G̱agaan 17 Sʼeek\n",
    "8 G̱aÿéis 18 Shaa\n",
    "9 Gijook 19 Shisʼg̱i\n",
    "10 G̱ooch 20 Sitʼ\n",
    "1 Taan 11 X̱aay\n",
    "2 Tax̱ʼ 12 Xʼátgu\n",
    "3 Tleilu 13 Xeitl\n",
    "4 Tóos 14 X̱ík\n",
    "5 Tsiskʼw 15 Xíxchʼi\n",
    "6 Tukká 16 Xóots\n",
    "7 Wéix̱ 17 Ÿaaw\n",
    "8 X’aan 18 Ÿaaÿ\n",
    "9 Xaas 19 Yéik\n",
    "10 Xáatl 20 Yéil\n",
    "\"\"\""
   ]
  },
  {
   "cell_type": "code",
   "execution_count": 6,
   "metadata": {},
   "outputs": [
    {
     "data": {
      "text/plain": [
       "40"
      ]
     },
     "execution_count": 6,
     "metadata": {},
     "output_type": "execute_result"
    }
   ],
   "source": [
    "names = []\n",
    "for n in name.split():\n",
    "    try:\n",
    "        int(n)\n",
    "    except:\n",
    "        names.append(n)\n",
    "names.sort()\n",
    "len(names)"
   ]
  },
  {
   "cell_type": "code",
   "execution_count": 7,
   "metadata": {},
   "outputs": [
    {
     "data": {
      "text/plain": [
       "['Cháatl',\n",
       " 'Chéx̱ʼi',\n",
       " 'Chʼaal',\n",
       " 'Chʼáak',\n",
       " 'Ch’eet',\n",
       " 'Dís',\n",
       " 'Gijook',\n",
       " 'Góon',\n",
       " 'G̱agaan',\n",
       " 'G̱aÿéis',\n",
       " 'G̱ooch',\n",
       " 'Kéet',\n",
       " 'Kóon',\n",
       " 'Kʼóox',\n",
       " 'L’ook',\n",
       " 'Shaa',\n",
       " 'Shisʼg̱i',\n",
       " 'Sitʼ',\n",
       " 'Sʼeek',\n",
       " 'Sʼáx',\n",
       " 'Taan',\n",
       " 'Tax̱ʼ',\n",
       " 'Tleilu',\n",
       " 'Tsiskʼw',\n",
       " 'Tukká',\n",
       " 'Tóos',\n",
       " 'Wéix̱',\n",
       " 'Xaas',\n",
       " 'Xeitl',\n",
       " 'Xáatl',\n",
       " 'Xíxchʼi',\n",
       " 'Xóots',\n",
       " 'Xʼátgu',\n",
       " 'X̱aay',\n",
       " 'X̱ík',\n",
       " 'X’aan',\n",
       " 'Yéik',\n",
       " 'Yéil',\n",
       " 'Ÿaaw',\n",
       " 'Ÿaaÿ']"
      ]
     },
     "execution_count": 7,
     "metadata": {},
     "output_type": "execute_result"
    }
   ],
   "source": [
    "names"
   ]
  },
  {
   "cell_type": "code",
   "execution_count": 8,
   "metadata": {},
   "outputs": [],
   "source": [
    "names = [\n",
    "    'Chʼáak',\n",
    "    'Chʼaal',\n",
    "    'Cháatl',\n",
    "    'Ch’eet',\n",
    "    'Chéx̱ʼi',\n",
    "    'Dís',\n",
    "    'G̱agaan',\n",
    "    'G̱aÿéis',\n",
    "    'Gijook',\n",
    "    'G̱ooch',\n",
    "    'Góon',\n",
    "    'Kéet',\n",
    "    'Kóon',\n",
    "    'Kʼóox',\n",
    "    'L’ook',\n",
    "    'Sʼáx',\n",
    "    'Sʼeek',\n",
    "    'Shaa',\n",
    "    'Shisʼg̱i',\n",
    "    'Sitʼ',\n",
    "    'Taan',\n",
    "    'Tax̱ʼ',\n",
    "    'Tleilu',\n",
    "    'Tóos',\n",
    "    'Tsiskʼw',\n",
    "    'Tukká',\n",
    "    'Wéix̱',\n",
    "    'X’aan',\n",
    "    'Xaas',\n",
    "    'Xáatl',\n",
    "    'X̱aay',\n",
    "    'Xʼátgu',\n",
    "    'Xeitl',\n",
    "    'X̱ík',\n",
    "    'Xíxchʼi',\n",
    "    'Xóots',\n",
    "    'Ÿaaw',\n",
    "    'Ÿaaÿ',\n",
    "    'Yéik',\n",
    "    'Yéil',\n",
    "]"
   ]
  },
  {
   "cell_type": "code",
   "execution_count": 9,
   "metadata": {},
   "outputs": [],
   "source": [
    "with open(\"t191_tlingit_names.txt\", \"w\") as f:\n",
    "    f.write(\"id\\tname\\n\")\n",
    "    for i, n in enumerate(names, start=1):\n",
    "        f.write(f\"{i}\\t{n}\\n\")"
   ]
  },
  {
   "cell_type": "code",
   "execution_count": null,
   "metadata": {},
   "outputs": [],
   "source": []
  }
 ],
 "metadata": {
  "kernelspec": {
   "display_name": "hyperborea-data",
   "language": "python",
   "name": "python3"
  },
  "language_info": {
   "codemirror_mode": {
    "name": "ipython",
    "version": 3
   },
   "file_extension": ".py",
   "mimetype": "text/x-python",
   "name": "python",
   "nbconvert_exporter": "python",
   "pygments_lexer": "ipython3",
   "version": "3.10.9"
  },
  "orig_nbformat": 4,
  "vscode": {
   "interpreter": {
    "hash": "acb019856f73b84eca86819462a39e3d7bccc0acdbb6a07dbb432495ff0ddd72"
   }
  }
 },
 "nbformat": 4,
 "nbformat_minor": 2
}
