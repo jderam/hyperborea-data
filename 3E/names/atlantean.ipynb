{
 "cells": [
  {
   "cell_type": "code",
   "execution_count": 2,
   "metadata": {},
   "outputs": [],
   "source": [
    "female = \"\"\"1 Agape\n",
    "2 Agathe\n",
    "3 Alexandra\n",
    "4 Ambrosia\n",
    "5 Aphrodisia\n",
    "6 Apollonia\n",
    "7 Aristomache\n",
    "8 Aspasia\n",
    "9 Demostrate\n",
    "10 Elpis\n",
    "11 Eudokia\n",
    "12 Eudoxia\n",
    "13 Eulalia\n",
    "14 Eumelia\n",
    "15 Euphemia\n",
    "16 Euphrasia\n",
    "17 Euthymia\n",
    "18 Eutropia\n",
    "19 Galene\n",
    "20 Helene\n",
    "1 Hypatia\n",
    "2 Kallisto\n",
    "3 Kallistrate\n",
    "4 Kleio\n",
    "5 Kleopatra\n",
    "6 Korinna\n",
    "7 Lysandra\n",
    "8 Lysistrate\n",
    "9 Pelagia\n",
    "10 Phile\n",
    "11 Phoibe\n",
    "12 Photine\n",
    "13 Ptolemais\n",
    "14 Sophia\n",
    "15 Sostrate\n",
    "16 Timo\n",
    "17 Tryphosa\n",
    "18 Tycho\n",
    "19 Xanthe\n",
    "20 Xenia\n",
    "\"\"\"\n",
    "\n",
    "male = \"\"\"1 Agapios\n",
    "2 Agathon\n",
    "3 Akakios\n",
    "4 Alexandros\n",
    "5 Alexios\n",
    "6 Anakletos\n",
    "7 Anatolios\n",
    "8 Androkles\n",
    "9 Aniketos\n",
    "10 Apollonios\n",
    "11 Archelaos\n",
    "12 Archimedes\n",
    "13 Argyros\n",
    "14 Aristeides\n",
    "15 Aristodemos\n",
    "16 Aristokles\n",
    "17 Ariston\n",
    "18 Aristophanes\n",
    "19 Arkadios\n",
    "20 Arsenios\n",
    "1 Athanasios\n",
    "2 Bion\n",
    "3 Demosthenes\n",
    "4 Epiktetos\n",
    "5 Euphemios\n",
    "6 Euripides\n",
    "7 Euthymios\n",
    "8 Eutropios\n",
    "9 Galenos\n",
    "10 Gennadios\n",
    "11 Heliodoros\n",
    "12 Herodotos\n",
    "13 Heron\n",
    "14 Homeros\n",
    "15 Hyginos\n",
    "16 Hypatos\n",
    "17 Iason\n",
    "18 Kallikrates\n",
    "19 Kleisthenes\n",
    "20 Kleon\n",
    "1 Lysandros 11 Solon\n",
    "2 Paramonos 12 Sophokles\n",
    "3 Pelagios 13 Sophos\n",
    "4 Phaidros 14 Sosigenes\n",
    "5 Philon 15 Straton\n",
    "6 Phoibos 16 Themistokles\n",
    "7 Photios 17 Theron\n",
    "8 Platon 18 Timon\n",
    "9 Praxiteles 19 Tychon\n",
    "10 Ptolemaios 20 Zephyros\n",
    "\"\"\"\n",
    "\n",
    "clan = \"\"\"1 Amphitrite 7 Phorkys\n",
    "2 Eurybia 8 Pontos\n",
    "3 Glaukos 9 Poseidon\n",
    "4 Kymopoleia 10 Proteos\n",
    "5 Nereos 11 Thalassa\n",
    "6 Okeanos 12 Triton\n",
    "\"\"\""
   ]
  },
  {
   "cell_type": "code",
   "execution_count": 3,
   "metadata": {},
   "outputs": [
    {
     "data": {
      "text/plain": [
       "40"
      ]
     },
     "execution_count": 3,
     "metadata": {},
     "output_type": "execute_result"
    }
   ],
   "source": [
    "female_names = []\n",
    "for n in female.split():\n",
    "    try:\n",
    "        int(n)\n",
    "    except:\n",
    "        female_names.append(n)\n",
    "female_names.sort()\n",
    "len(female_names)"
   ]
  },
  {
   "cell_type": "code",
   "execution_count": 4,
   "metadata": {},
   "outputs": [
    {
     "data": {
      "text/plain": [
       "['Agape',\n",
       " 'Agathe',\n",
       " 'Alexandra',\n",
       " 'Ambrosia',\n",
       " 'Aphrodisia',\n",
       " 'Apollonia',\n",
       " 'Aristomache',\n",
       " 'Aspasia',\n",
       " 'Demostrate',\n",
       " 'Elpis',\n",
       " 'Eudokia',\n",
       " 'Eudoxia',\n",
       " 'Eulalia',\n",
       " 'Eumelia',\n",
       " 'Euphemia',\n",
       " 'Euphrasia',\n",
       " 'Euthymia',\n",
       " 'Eutropia',\n",
       " 'Galene',\n",
       " 'Helene',\n",
       " 'Hypatia',\n",
       " 'Kallisto',\n",
       " 'Kallistrate',\n",
       " 'Kleio',\n",
       " 'Kleopatra',\n",
       " 'Korinna',\n",
       " 'Lysandra',\n",
       " 'Lysistrate',\n",
       " 'Pelagia',\n",
       " 'Phile',\n",
       " 'Phoibe',\n",
       " 'Photine',\n",
       " 'Ptolemais',\n",
       " 'Sophia',\n",
       " 'Sostrate',\n",
       " 'Timo',\n",
       " 'Tryphosa',\n",
       " 'Tycho',\n",
       " 'Xanthe',\n",
       " 'Xenia']"
      ]
     },
     "execution_count": 4,
     "metadata": {},
     "output_type": "execute_result"
    }
   ],
   "source": [
    "female_names"
   ]
  },
  {
   "cell_type": "code",
   "execution_count": 5,
   "metadata": {},
   "outputs": [],
   "source": [
    "with open(\"t157_atlantean_female_names.txt\", \"w\") as f:\n",
    "    f.write(\"id\\tname\\n\")\n",
    "    for i, n in enumerate(female_names, start=1):\n",
    "        f.write(f\"{i}\\t{n}\\n\")"
   ]
  },
  {
   "cell_type": "code",
   "execution_count": 6,
   "metadata": {},
   "outputs": [
    {
     "data": {
      "text/plain": [
       "60"
      ]
     },
     "execution_count": 6,
     "metadata": {},
     "output_type": "execute_result"
    }
   ],
   "source": [
    "male_names = []\n",
    "for n in male.split():\n",
    "    try:\n",
    "        int(n)\n",
    "    except:\n",
    "        male_names.append(n)\n",
    "male_names.sort()\n",
    "len(male_names)"
   ]
  },
  {
   "cell_type": "code",
   "execution_count": 7,
   "metadata": {},
   "outputs": [
    {
     "data": {
      "text/plain": [
       "['Agapios',\n",
       " 'Agathon',\n",
       " 'Akakios',\n",
       " 'Alexandros',\n",
       " 'Alexios',\n",
       " 'Anakletos',\n",
       " 'Anatolios',\n",
       " 'Androkles',\n",
       " 'Aniketos',\n",
       " 'Apollonios',\n",
       " 'Archelaos',\n",
       " 'Archimedes',\n",
       " 'Argyros',\n",
       " 'Aristeides',\n",
       " 'Aristodemos',\n",
       " 'Aristokles',\n",
       " 'Ariston',\n",
       " 'Aristophanes',\n",
       " 'Arkadios',\n",
       " 'Arsenios',\n",
       " 'Athanasios',\n",
       " 'Bion',\n",
       " 'Demosthenes',\n",
       " 'Epiktetos',\n",
       " 'Euphemios',\n",
       " 'Euripides',\n",
       " 'Euthymios',\n",
       " 'Eutropios',\n",
       " 'Galenos',\n",
       " 'Gennadios',\n",
       " 'Heliodoros',\n",
       " 'Herodotos',\n",
       " 'Heron',\n",
       " 'Homeros',\n",
       " 'Hyginos',\n",
       " 'Hypatos',\n",
       " 'Iason',\n",
       " 'Kallikrates',\n",
       " 'Kleisthenes',\n",
       " 'Kleon',\n",
       " 'Lysandros',\n",
       " 'Paramonos',\n",
       " 'Pelagios',\n",
       " 'Phaidros',\n",
       " 'Philon',\n",
       " 'Phoibos',\n",
       " 'Photios',\n",
       " 'Platon',\n",
       " 'Praxiteles',\n",
       " 'Ptolemaios',\n",
       " 'Solon',\n",
       " 'Sophokles',\n",
       " 'Sophos',\n",
       " 'Sosigenes',\n",
       " 'Straton',\n",
       " 'Themistokles',\n",
       " 'Theron',\n",
       " 'Timon',\n",
       " 'Tychon',\n",
       " 'Zephyros']"
      ]
     },
     "execution_count": 7,
     "metadata": {},
     "output_type": "execute_result"
    }
   ],
   "source": [
    "male_names"
   ]
  },
  {
   "cell_type": "code",
   "execution_count": 8,
   "metadata": {},
   "outputs": [],
   "source": [
    "with open(\"t158_atlantean_male_names.txt\", \"w\") as f:\n",
    "    f.write(\"id\\tname\\n\")\n",
    "    for i, n in enumerate(male_names, start=1):\n",
    "        f.write(f\"{i}\\t{n}\\n\")"
   ]
  },
  {
   "cell_type": "code",
   "execution_count": 9,
   "metadata": {},
   "outputs": [
    {
     "data": {
      "text/plain": [
       "12"
      ]
     },
     "execution_count": 9,
     "metadata": {},
     "output_type": "execute_result"
    }
   ],
   "source": [
    "clan_names = []\n",
    "for n in clan.split():\n",
    "    try:\n",
    "        int(n)\n",
    "    except:\n",
    "        clan_names.append(n)\n",
    "clan_names.sort()\n",
    "len(clan_names)"
   ]
  },
  {
   "cell_type": "code",
   "execution_count": 10,
   "metadata": {},
   "outputs": [
    {
     "data": {
      "text/plain": [
       "['Amphitrite',\n",
       " 'Eurybia',\n",
       " 'Glaukos',\n",
       " 'Kymopoleia',\n",
       " 'Nereos',\n",
       " 'Okeanos',\n",
       " 'Phorkys',\n",
       " 'Pontos',\n",
       " 'Poseidon',\n",
       " 'Proteos',\n",
       " 'Thalassa',\n",
       " 'Triton']"
      ]
     },
     "execution_count": 10,
     "metadata": {},
     "output_type": "execute_result"
    }
   ],
   "source": [
    "clan_names"
   ]
  },
  {
   "cell_type": "code",
   "execution_count": 11,
   "metadata": {},
   "outputs": [],
   "source": [
    "with open(\"t159_atlantean_clan_names.txt\", \"w\") as f:\n",
    "    f.write(\"id\\tname\\n\")\n",
    "    for i, n in enumerate(clan_names, start=1):\n",
    "        f.write(f\"{i}\\t{n}\\n\")"
   ]
  },
  {
   "cell_type": "code",
   "execution_count": null,
   "metadata": {},
   "outputs": [],
   "source": []
  }
 ],
 "metadata": {
  "kernelspec": {
   "display_name": "hyperborea-data",
   "language": "python",
   "name": "python3"
  },
  "language_info": {
   "codemirror_mode": {
    "name": "ipython",
    "version": 3
   },
   "file_extension": ".py",
   "mimetype": "text/x-python",
   "name": "python",
   "nbconvert_exporter": "python",
   "pygments_lexer": "ipython3",
   "version": "3.10.9"
  },
  "orig_nbformat": 4,
  "vscode": {
   "interpreter": {
    "hash": "acb019856f73b84eca86819462a39e3d7bccc0acdbb6a07dbb432495ff0ddd72"
   }
  }
 },
 "nbformat": 4,
 "nbformat_minor": 2
}
