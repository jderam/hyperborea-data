{
 "cells": [
  {
   "cell_type": "code",
   "execution_count": 1,
   "metadata": {},
   "outputs": [],
   "source": [
    "female = \"\"\"1 Alda\n",
    "2 Ama\n",
    "3 Amagê\n",
    "4 Aritê\n",
    "5 Asenath\n",
    "6 Iset\n",
    "7 Kama\n",
    "8 Karos\n",
    "1 Leimeiê\n",
    "2 Mada\n",
    "3 Maiôsara\n",
    "4 Meris\n",
    "5 Nefertiri\n",
    "6 Neferu\n",
    "7 Nekebet\n",
    "8 Nena\n",
    "1 Nodjme\n",
    "2 Nofret\n",
    "3 Rinnan\n",
    "4 Satani\n",
    "5 Senbet\n",
    "6 Sarukê\n",
    "7 Storanê\n",
    "8 Tamura\n",
    "1 Tem\n",
    "2 Tentopet\n",
    "3 Tentheta\n",
    "4 Tentsai\n",
    "5 Tirgataô\n",
    "6 Tiye\n",
    "7 Uiay\n",
    "8 Usekhmehi\n",
    "\"\"\"\n",
    "\n",
    "male = \"\"\"01–02 Abragos 21–22 Badagos 41–42 Iôdas 61–62 Medosaccos 81–82 Phoros\n",
    "03–04 Akasas 23–24 Baxagos 43–44 Irganos 63–64 Mêthakos 83–84 Rassogos\n",
    "05–06 Andranakos 25–26 Bistês 45–46 Kainaxarthos 65–66 Mordos 85–86 Saraxazos\n",
    "07–08 Ardaros 27–28 Bôrakos 47–48 Karaxstos 67–68 Nabazos 87–88 Siranos\n",
    "09–10 Asanos 29–30 Chodainos 49–50 Karsas 69–70 Olgasos 89–90 Spakos\n",
    "11–12 Aspakos 31–32 Chodekios 51–52 Katokas 71–72 Ourgios 91–92 Spithamês\n",
    "13–14 Aspamitharês 33–34 Gadikios 53–54 Kopharnos 73–74 Oustanos 93–94 Sturanos\n",
    "15–16 Aurazakos 35–36 Gaos 55–56 Kossas 75–76 Pagos 95–96 Xarthanos\n",
    "17–18 Azos 37–38 Gosôn 57–58 Madakos 77–78 Pêrakos 97–98 Xobas\n",
    "19–20 Aziagos 39–40 Iazadagos 59–60 Mastas 79–80 Pharnagos 99–00 Zabandos\n",
    "\"\"\""
   ]
  },
  {
   "cell_type": "code",
   "execution_count": 2,
   "metadata": {},
   "outputs": [
    {
     "data": {
      "text/plain": [
       "32"
      ]
     },
     "execution_count": 2,
     "metadata": {},
     "output_type": "execute_result"
    }
   ],
   "source": [
    "female_names = []\n",
    "for n in female.split():\n",
    "    try:\n",
    "        int(n)\n",
    "    except:\n",
    "        female_names.append(n)\n",
    "len(female_names)"
   ]
  },
  {
   "cell_type": "code",
   "execution_count": 3,
   "metadata": {},
   "outputs": [
    {
     "data": {
      "text/plain": [
       "['Alda',\n",
       " 'Ama',\n",
       " 'Amagê',\n",
       " 'Aritê',\n",
       " 'Asenath',\n",
       " 'Iset',\n",
       " 'Kama',\n",
       " 'Karos',\n",
       " 'Leimeiê',\n",
       " 'Mada',\n",
       " 'Maiôsara',\n",
       " 'Meris',\n",
       " 'Nefertiri',\n",
       " 'Neferu',\n",
       " 'Nekebet',\n",
       " 'Nena',\n",
       " 'Nodjme',\n",
       " 'Nofret',\n",
       " 'Rinnan',\n",
       " 'Satani',\n",
       " 'Senbet',\n",
       " 'Sarukê',\n",
       " 'Storanê',\n",
       " 'Tamura',\n",
       " 'Tem',\n",
       " 'Tentopet',\n",
       " 'Tentheta',\n",
       " 'Tentsai',\n",
       " 'Tirgataô',\n",
       " 'Tiye',\n",
       " 'Uiay',\n",
       " 'Usekhmehi']"
      ]
     },
     "execution_count": 3,
     "metadata": {},
     "output_type": "execute_result"
    }
   ],
   "source": [
    "female_names"
   ]
  },
  {
   "cell_type": "code",
   "execution_count": 4,
   "metadata": {},
   "outputs": [],
   "source": [
    "with open(\"t168_ixian_female_names.txt\", \"w\") as f:\n",
    "    f.write(\"id\\tname\\n\")\n",
    "    for i, n in enumerate(female_names, start=1):\n",
    "        f.write(f\"{i}\\t{n}\\n\")"
   ]
  },
  {
   "cell_type": "code",
   "execution_count": 5,
   "metadata": {},
   "outputs": [
    {
     "data": {
      "text/plain": [
       "50"
      ]
     },
     "execution_count": 5,
     "metadata": {},
     "output_type": "execute_result"
    }
   ],
   "source": [
    "male_names = [x for x in male.split() if \"–\" not in x]\n",
    "male_names.sort()\n",
    "len(male_names)"
   ]
  },
  {
   "cell_type": "code",
   "execution_count": 6,
   "metadata": {},
   "outputs": [
    {
     "data": {
      "text/plain": [
       "['Abragos',\n",
       " 'Akasas',\n",
       " 'Andranakos',\n",
       " 'Ardaros',\n",
       " 'Asanos',\n",
       " 'Aspakos',\n",
       " 'Aspamitharês',\n",
       " 'Aurazakos',\n",
       " 'Aziagos',\n",
       " 'Azos',\n",
       " 'Badagos',\n",
       " 'Baxagos',\n",
       " 'Bistês',\n",
       " 'Bôrakos',\n",
       " 'Chodainos',\n",
       " 'Chodekios',\n",
       " 'Gadikios',\n",
       " 'Gaos',\n",
       " 'Gosôn',\n",
       " 'Iazadagos',\n",
       " 'Irganos',\n",
       " 'Iôdas',\n",
       " 'Kainaxarthos',\n",
       " 'Karaxstos',\n",
       " 'Karsas',\n",
       " 'Katokas',\n",
       " 'Kopharnos',\n",
       " 'Kossas',\n",
       " 'Madakos',\n",
       " 'Mastas',\n",
       " 'Medosaccos',\n",
       " 'Mordos',\n",
       " 'Mêthakos',\n",
       " 'Nabazos',\n",
       " 'Olgasos',\n",
       " 'Ourgios',\n",
       " 'Oustanos',\n",
       " 'Pagos',\n",
       " 'Pharnagos',\n",
       " 'Phoros',\n",
       " 'Pêrakos',\n",
       " 'Rassogos',\n",
       " 'Saraxazos',\n",
       " 'Siranos',\n",
       " 'Spakos',\n",
       " 'Spithamês',\n",
       " 'Sturanos',\n",
       " 'Xarthanos',\n",
       " 'Xobas',\n",
       " 'Zabandos']"
      ]
     },
     "execution_count": 6,
     "metadata": {},
     "output_type": "execute_result"
    }
   ],
   "source": [
    "male_names"
   ]
  },
  {
   "cell_type": "code",
   "execution_count": 7,
   "metadata": {},
   "outputs": [],
   "source": [
    "with open(\"t169_ixian_male_names.txt\", \"w\") as f:\n",
    "    f.write(\"id\\tname\\n\")\n",
    "    for i, n in enumerate(male_names, start=1):\n",
    "        f.write(f\"{i}\\t{n}\\n\")"
   ]
  },
  {
   "cell_type": "code",
   "execution_count": null,
   "metadata": {},
   "outputs": [],
   "source": []
  }
 ],
 "metadata": {
  "kernelspec": {
   "display_name": "hyperborea-data",
   "language": "python",
   "name": "python3"
  },
  "language_info": {
   "codemirror_mode": {
    "name": "ipython",
    "version": 3
   },
   "file_extension": ".py",
   "mimetype": "text/x-python",
   "name": "python",
   "nbconvert_exporter": "python",
   "pygments_lexer": "ipython3",
   "version": "3.10.9"
  },
  "orig_nbformat": 4,
  "vscode": {
   "interpreter": {
    "hash": "acb019856f73b84eca86819462a39e3d7bccc0acdbb6a07dbb432495ff0ddd72"
   }
  }
 },
 "nbformat": 4,
 "nbformat_minor": 2
}
