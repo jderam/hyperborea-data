{
 "cells": [
  {
   "cell_type": "code",
   "execution_count": 1,
   "metadata": {},
   "outputs": [],
   "source": [
    "name = \"\"\"1 Dar\n",
    "2 Dor\n",
    "3 Dun\n",
    "4 Gal\n",
    "5 Gan\n",
    "6 Gar\n",
    "7 Gol\n",
    "8 Gon\n",
    "9 Gor\n",
    "10 Gul\n",
    "11 Kal\n",
    "12 Kar\n",
    "13 Kil\n",
    "14 Kol\n",
    "15 Kon\n",
    "16 Kor\n",
    "17 Kul\n",
    "18 Kur\n",
    "19 Mal\n",
    "20 Mar\n",
    "1 Mir\n",
    "2 Mor\n",
    "3 Mur\n",
    "4 Plo\n",
    "5 Pol\n",
    "6 Val\n",
    "7 Van\n",
    "8 Var\n",
    "9 Vil\n",
    "10 Vir\n",
    "11 Vol\n",
    "12 Von\n",
    "13 Vor\n",
    "14 Vul\n",
    "15 Vun\n",
    "16 Vur\n",
    "17 Xal\n",
    "18 Xan\n",
    "19 Xar\n",
    "20 Xil\n",
    "1 Xin\n",
    "2 Xir\n",
    "3 Xol\n",
    "4 Xon\n",
    "5 Xor\n",
    "6 Xul\n",
    "7 Xun\n",
    "8 Xur\n",
    "9 Zal\n",
    "10 Zan\n",
    "11 Zar\n",
    "12 Zil\n",
    "13 Zin\n",
    "14 Zir\n",
    "15 Zol\n",
    "16 Zon\n",
    "17 Zor\n",
    "18 Zul\n",
    "19 Zun\n",
    "20 Zur\n",
    "\"\"\"\n",
    "\n",
    "famname = \"\"\"1 Druun\n",
    "2 Ghuul\n",
    "3 Graax\n",
    "4 Kloon\n",
    "5 Phaaz\n",
    "6 Ploon\n",
    "7 Qaan\n",
    "8 Rhaan\n",
    "1 Shoon\n",
    "2 Slaan\n",
    "3 Thoon\n",
    "4 Traal\n",
    "5 Vheez\n",
    "6 Xhoon\n",
    "7 Zhaan\n",
    "8 Zhuu\n",
    "\"\"\""
   ]
  },
  {
   "cell_type": "code",
   "execution_count": 2,
   "metadata": {},
   "outputs": [
    {
     "data": {
      "text/plain": [
       "60"
      ]
     },
     "execution_count": 2,
     "metadata": {},
     "output_type": "execute_result"
    }
   ],
   "source": [
    "name_elements = []\n",
    "for n in name.split():\n",
    "    try:\n",
    "        int(n)\n",
    "    except:\n",
    "        name_elements.append(n)\n",
    "len(name_elements)"
   ]
  },
  {
   "cell_type": "code",
   "execution_count": 3,
   "metadata": {},
   "outputs": [
    {
     "data": {
      "text/plain": [
       "['Dar',\n",
       " 'Dor',\n",
       " 'Dun',\n",
       " 'Gal',\n",
       " 'Gan',\n",
       " 'Gar',\n",
       " 'Gol',\n",
       " 'Gon',\n",
       " 'Gor',\n",
       " 'Gul',\n",
       " 'Kal',\n",
       " 'Kar',\n",
       " 'Kil',\n",
       " 'Kol',\n",
       " 'Kon',\n",
       " 'Kor',\n",
       " 'Kul',\n",
       " 'Kur',\n",
       " 'Mal',\n",
       " 'Mar',\n",
       " 'Mir',\n",
       " 'Mor',\n",
       " 'Mur',\n",
       " 'Plo',\n",
       " 'Pol',\n",
       " 'Val',\n",
       " 'Van',\n",
       " 'Var',\n",
       " 'Vil',\n",
       " 'Vir',\n",
       " 'Vol',\n",
       " 'Von',\n",
       " 'Vor',\n",
       " 'Vul',\n",
       " 'Vun',\n",
       " 'Vur',\n",
       " 'Xal',\n",
       " 'Xan',\n",
       " 'Xar',\n",
       " 'Xil',\n",
       " 'Xin',\n",
       " 'Xir',\n",
       " 'Xol',\n",
       " 'Xon',\n",
       " 'Xor',\n",
       " 'Xul',\n",
       " 'Xun',\n",
       " 'Xur',\n",
       " 'Zal',\n",
       " 'Zan',\n",
       " 'Zar',\n",
       " 'Zil',\n",
       " 'Zin',\n",
       " 'Zir',\n",
       " 'Zol',\n",
       " 'Zon',\n",
       " 'Zor',\n",
       " 'Zul',\n",
       " 'Zun',\n",
       " 'Zur']"
      ]
     },
     "execution_count": 3,
     "metadata": {},
     "output_type": "execute_result"
    }
   ],
   "source": [
    "name_elements"
   ]
  },
  {
   "cell_type": "code",
   "execution_count": 4,
   "metadata": {},
   "outputs": [],
   "source": [
    "with open(\"t165_hyperborean_name_elements.txt\", \"w\") as f:\n",
    "    f.write(\"id\\tname\\n\")\n",
    "    for i, n in enumerate(name_elements, start=1):\n",
    "        f.write(f\"{i}\\t{n}\\n\")"
   ]
  },
  {
   "cell_type": "code",
   "execution_count": 5,
   "metadata": {},
   "outputs": [
    {
     "data": {
      "text/plain": [
       "16"
      ]
     },
     "execution_count": 5,
     "metadata": {},
     "output_type": "execute_result"
    }
   ],
   "source": [
    "fam_name_elements = []\n",
    "for n in famname.split():\n",
    "    try:\n",
    "        int(n)\n",
    "    except:\n",
    "        fam_name_elements.append(n)\n",
    "len(fam_name_elements)"
   ]
  },
  {
   "cell_type": "code",
   "execution_count": 6,
   "metadata": {},
   "outputs": [
    {
     "data": {
      "text/plain": [
       "['Druun',\n",
       " 'Ghuul',\n",
       " 'Graax',\n",
       " 'Kloon',\n",
       " 'Phaaz',\n",
       " 'Ploon',\n",
       " 'Qaan',\n",
       " 'Rhaan',\n",
       " 'Shoon',\n",
       " 'Slaan',\n",
       " 'Thoon',\n",
       " 'Traal',\n",
       " 'Vheez',\n",
       " 'Xhoon',\n",
       " 'Zhaan',\n",
       " 'Zhuu']"
      ]
     },
     "execution_count": 6,
     "metadata": {},
     "output_type": "execute_result"
    }
   ],
   "source": [
    "fam_name_elements"
   ]
  },
  {
   "cell_type": "code",
   "execution_count": 7,
   "metadata": {},
   "outputs": [],
   "source": [
    "with open(\"t167_hyperborean_family_names.txt\", \"w\") as f:\n",
    "    f.write(\"id\\tname\\n\")\n",
    "    for i, n in enumerate(fam_name_elements, start=1):\n",
    "        f.write(f\"{i}\\t{n}\\n\")"
   ]
  },
  {
   "cell_type": "code",
   "execution_count": null,
   "metadata": {},
   "outputs": [],
   "source": []
  }
 ],
 "metadata": {
  "kernelspec": {
   "display_name": "hyperborea-data",
   "language": "python",
   "name": "python3"
  },
  "language_info": {
   "codemirror_mode": {
    "name": "ipython",
    "version": 3
   },
   "file_extension": ".py",
   "mimetype": "text/x-python",
   "name": "python",
   "nbconvert_exporter": "python",
   "pygments_lexer": "ipython3",
   "version": "3.10.9"
  },
  "orig_nbformat": 4,
  "vscode": {
   "interpreter": {
    "hash": "acb019856f73b84eca86819462a39e3d7bccc0acdbb6a07dbb432495ff0ddd72"
   }
  }
 },
 "nbformat": 4,
 "nbformat_minor": 2
}
