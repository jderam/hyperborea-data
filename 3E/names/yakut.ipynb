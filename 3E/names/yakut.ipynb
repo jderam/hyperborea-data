{
 "cells": [
  {
   "cell_type": "code",
   "execution_count": 2,
   "metadata": {},
   "outputs": [],
   "source": [
    "female = \"\"\"1 Ayta’da\n",
    "2 Kaskilaana\n",
    "3 Künney\n",
    "4 Lur\n",
    "5 Nariyanaa\n",
    "6 Nyur’da\n",
    "7 Saskulaana\n",
    "8 Saya’da\n",
    "9 Sayii’da\n",
    "10 Tuskulaana\n",
    "11 Tuya’da\n",
    "12 Uruy’da\n",
    "\"\"\"\n",
    "\n",
    "male = \"\"\"1 Ayaal-xu\n",
    "2 Aysen-xu\n",
    "3 Aytalanu\n",
    "4 Elleyanu\n",
    "5 Karak-xu\n",
    "6 Kaskil\n",
    "7 Michilanu\n",
    "8 Nyurganu\n",
    "9 Sirk-xu\n",
    "10 Tibur\n",
    "11 Uygulaan\n",
    "12 Yodin\n",
    "\"\"\""
   ]
  },
  {
   "cell_type": "code",
   "execution_count": 3,
   "metadata": {},
   "outputs": [
    {
     "data": {
      "text/plain": [
       "12"
      ]
     },
     "execution_count": 3,
     "metadata": {},
     "output_type": "execute_result"
    }
   ],
   "source": [
    "female_names = []\n",
    "for n in female.split():\n",
    "    try:\n",
    "        int(n)\n",
    "    except:\n",
    "        female_names.append(n)\n",
    "len(female_names)"
   ]
  },
  {
   "cell_type": "code",
   "execution_count": 4,
   "metadata": {},
   "outputs": [
    {
     "data": {
      "text/plain": [
       "['Ayta’da',\n",
       " 'Kaskilaana',\n",
       " 'Künney',\n",
       " 'Lur',\n",
       " 'Nariyanaa',\n",
       " 'Nyur’da',\n",
       " 'Saskulaana',\n",
       " 'Saya’da',\n",
       " 'Sayii’da',\n",
       " 'Tuskulaana',\n",
       " 'Tuya’da',\n",
       " 'Uruy’da']"
      ]
     },
     "execution_count": 4,
     "metadata": {},
     "output_type": "execute_result"
    }
   ],
   "source": [
    "female_names"
   ]
  },
  {
   "cell_type": "code",
   "execution_count": 5,
   "metadata": {},
   "outputs": [],
   "source": [
    "with open(\"t195_yakut_female_names.txt\", \"w\") as f:\n",
    "    f.write(\"id\\tname\\n\")\n",
    "    for i, n in enumerate(female_names, start=1):\n",
    "        f.write(f\"{i}\\t{n}\\n\")"
   ]
  },
  {
   "cell_type": "code",
   "execution_count": 6,
   "metadata": {},
   "outputs": [
    {
     "data": {
      "text/plain": [
       "12"
      ]
     },
     "execution_count": 6,
     "metadata": {},
     "output_type": "execute_result"
    }
   ],
   "source": [
    "male_names = []\n",
    "for n in male.split():\n",
    "    try:\n",
    "        int(n)\n",
    "    except:\n",
    "        male_names.append(n)\n",
    "len(male_names)"
   ]
  },
  {
   "cell_type": "code",
   "execution_count": 7,
   "metadata": {},
   "outputs": [
    {
     "data": {
      "text/plain": [
       "['Ayaal-xu',\n",
       " 'Aysen-xu',\n",
       " 'Aytalanu',\n",
       " 'Elleyanu',\n",
       " 'Karak-xu',\n",
       " 'Kaskil',\n",
       " 'Michilanu',\n",
       " 'Nyurganu',\n",
       " 'Sirk-xu',\n",
       " 'Tibur',\n",
       " 'Uygulaan',\n",
       " 'Yodin']"
      ]
     },
     "execution_count": 7,
     "metadata": {},
     "output_type": "execute_result"
    }
   ],
   "source": [
    "male_names"
   ]
  },
  {
   "cell_type": "code",
   "execution_count": 8,
   "metadata": {},
   "outputs": [],
   "source": [
    "with open(\"t196_yakut_male_names.txt\", \"w\") as f:\n",
    "    f.write(\"id\\tname\\n\")\n",
    "    for i, n in enumerate(male_names, start=1):\n",
    "        f.write(f\"{i}\\t{n}\\n\")"
   ]
  },
  {
   "cell_type": "code",
   "execution_count": null,
   "metadata": {},
   "outputs": [],
   "source": []
  }
 ],
 "metadata": {
  "kernelspec": {
   "display_name": "hyperborea-data",
   "language": "python",
   "name": "python3"
  },
  "language_info": {
   "codemirror_mode": {
    "name": "ipython",
    "version": 3
   },
   "file_extension": ".py",
   "mimetype": "text/x-python",
   "name": "python",
   "nbconvert_exporter": "python",
   "pygments_lexer": "ipython3",
   "version": "3.10.9"
  },
  "orig_nbformat": 4,
  "vscode": {
   "interpreter": {
    "hash": "acb019856f73b84eca86819462a39e3d7bccc0acdbb6a07dbb432495ff0ddd72"
   }
  }
 },
 "nbformat": 4,
 "nbformat_minor": 2
}
