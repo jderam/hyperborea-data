{
 "cells": [
  {
   "cell_type": "code",
   "execution_count": 1,
   "metadata": {},
   "outputs": [],
   "source": [
    "name = \"\"\"1 Batu 11 Darbu\n",
    "2 Bagada 12 Dubano\n",
    "3 Bahareko 13 Dzogoshi\n",
    "4 Baijata 14 Gabata\n",
    "5 Baliti 15 Gasani\n",
    "6 Bisku 16 Gatifan\n",
    "7 Bora 17 Ged-ahini\n",
    "8 Bortegana 18 Genzebo\n",
    "9 Dangata 19 Guri\n",
    "10 Darbohanshati 20 Gurlu\n",
    "1 Habura 11 Kulugmat\n",
    "2 Hadzi 12 Kushta\n",
    "3 Kaibiri 13 Lakha-ta\n",
    "4 Kalati 14 Lambano\n",
    "5 Kashin 15 Mangatinuh\n",
    "6 Kidzi 16 Mertematakalbano\n",
    "7 Kitshaki 17 Mizgita\n",
    "8 Kiwak 18 Mogatooti\n",
    "9 Kokaodi 19 Munatenorma\n",
    "10 Korumi 20 Nagaikota\n",
    "1 Nuh-ni 11 Tin-ako\n",
    "2 Okuhnti 12 Tinteganzabu\n",
    "3 Ramun-auni 13 Tirgɑtɑ\n",
    "4 Shida 14 To-ra\n",
    "5 Sho-kaia 15 Toko-na\n",
    "6 Shuaxota 16 Tshoma\n",
    "7 Shuo 17 Tso-nakau\n",
    "8 Ta-mita 18 Tukahe-da\n",
    "9 Tæhata 19 Wu-rakatubat\n",
    "10 Tashana 20 Zilanka\n",
    "\"\"\""
   ]
  },
  {
   "cell_type": "code",
   "execution_count": 2,
   "metadata": {},
   "outputs": [
    {
     "data": {
      "text/plain": [
       "60"
      ]
     },
     "execution_count": 2,
     "metadata": {},
     "output_type": "execute_result"
    }
   ],
   "source": [
    "names = []\n",
    "for n in name.split():\n",
    "    try:\n",
    "        int(n)\n",
    "    except:\n",
    "        names.append(n)\n",
    "names.sort()\n",
    "len(names)"
   ]
  },
  {
   "cell_type": "code",
   "execution_count": 3,
   "metadata": {},
   "outputs": [
    {
     "data": {
      "text/plain": [
       "['Bagada',\n",
       " 'Bahareko',\n",
       " 'Baijata',\n",
       " 'Baliti',\n",
       " 'Batu',\n",
       " 'Bisku',\n",
       " 'Bora',\n",
       " 'Bortegana',\n",
       " 'Dangata',\n",
       " 'Darbohanshati',\n",
       " 'Darbu',\n",
       " 'Dubano',\n",
       " 'Dzogoshi',\n",
       " 'Gabata',\n",
       " 'Gasani',\n",
       " 'Gatifan',\n",
       " 'Ged-ahini',\n",
       " 'Genzebo',\n",
       " 'Guri',\n",
       " 'Gurlu',\n",
       " 'Habura',\n",
       " 'Hadzi',\n",
       " 'Kaibiri',\n",
       " 'Kalati',\n",
       " 'Kashin',\n",
       " 'Kidzi',\n",
       " 'Kitshaki',\n",
       " 'Kiwak',\n",
       " 'Kokaodi',\n",
       " 'Korumi',\n",
       " 'Kulugmat',\n",
       " 'Kushta',\n",
       " 'Lakha-ta',\n",
       " 'Lambano',\n",
       " 'Mangatinuh',\n",
       " 'Mertematakalbano',\n",
       " 'Mizgita',\n",
       " 'Mogatooti',\n",
       " 'Munatenorma',\n",
       " 'Nagaikota',\n",
       " 'Nuh-ni',\n",
       " 'Okuhnti',\n",
       " 'Ramun-auni',\n",
       " 'Shida',\n",
       " 'Sho-kaia',\n",
       " 'Shuaxota',\n",
       " 'Shuo',\n",
       " 'Ta-mita',\n",
       " 'Tashana',\n",
       " 'Tin-ako',\n",
       " 'Tinteganzabu',\n",
       " 'Tirgɑtɑ',\n",
       " 'To-ra',\n",
       " 'Toko-na',\n",
       " 'Tshoma',\n",
       " 'Tso-nakau',\n",
       " 'Tukahe-da',\n",
       " 'Tæhata',\n",
       " 'Wu-rakatubat',\n",
       " 'Zilanka']"
      ]
     },
     "execution_count": 3,
     "metadata": {},
     "output_type": "execute_result"
    }
   ],
   "source": [
    "names"
   ]
  },
  {
   "cell_type": "code",
   "execution_count": 4,
   "metadata": {},
   "outputs": [],
   "source": [
    "with open(\"t184_mu_names.txt\", \"w\") as f:\n",
    "    f.write(\"id\\tname\\n\")\n",
    "    for i, n in enumerate(names, start=1):\n",
    "        f.write(f\"{i}\\t{n}\\n\")"
   ]
  },
  {
   "cell_type": "code",
   "execution_count": null,
   "metadata": {},
   "outputs": [],
   "source": []
  }
 ],
 "metadata": {
  "kernelspec": {
   "display_name": "hyperborea-data",
   "language": "python",
   "name": "python3"
  },
  "language_info": {
   "codemirror_mode": {
    "name": "ipython",
    "version": 3
   },
   "file_extension": ".py",
   "mimetype": "text/x-python",
   "name": "python",
   "nbconvert_exporter": "python",
   "pygments_lexer": "ipython3",
   "version": "3.10.9"
  },
  "orig_nbformat": 4,
  "vscode": {
   "interpreter": {
    "hash": "acb019856f73b84eca86819462a39e3d7bccc0acdbb6a07dbb432495ff0ddd72"
   }
  }
 },
 "nbformat": 4,
 "nbformat_minor": 2
}
